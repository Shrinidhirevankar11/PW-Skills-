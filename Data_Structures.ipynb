{
  "nbformat": 4,
  "nbformat_minor": 0,
  "metadata": {
    "colab": {
      "provenance": [],
      "toc_visible": true
    },
    "kernelspec": {
      "name": "python3",
      "display_name": "Python 3"
    },
    "language_info": {
      "name": "python"
    }
  },
  "cells": [
    {
      "cell_type": "markdown",
      "source": [
        "# Theory Questions – Solutions\n",
        "\n",
        "# 1.What are data structures, and why are they important?\n",
        "- Data structures are ways of organizing and storing data in a computer so it can be accessed and modified efficiently.\n",
        "- Importance: They improve efficiency, enable optimized searching/sorting, memory management, and make complex tasks easier.\n",
        "\n",
        "# 2.Difference between mutable and immutable data types (with examples):\n",
        "- Mutable: Can be changed after creation. Example: List → `my_list = [1, 2, 3]; my_list.append(4)`\n",
        "- Immutable: Cannot be changed once created. Example: String → `\"hello\"[0] = \"H\" not allowed.\n",
        "\n",
        "# 3.Difference between lists and tuples in Python:\n",
        "- List: Mutable, defined with `[]`, slower but flexible. Example: `[1,2,3]`\n",
        "- Tuple: Immutable, defined with `()`, faster, ensures data safety. Example: `(1,2,3)`\n",
        "\n",
        "# 4.How dictionaries store data:\n",
        "- Dictionaries use **hash tables** internally. Keys are hashed to find their storage location for fast retrieval.\n",
        "\n",
        "# 5. Why use a set instead of a list?\n",
        "- Sets automatically remove duplicates, provide faster membership checks, and are useful for mathematical operations.\n",
        "\n",
        "# 6. What is a string in Python, and how is it different from a list?\n",
        "- String: Sequence of characters, immutable.\n",
        "- List: Sequence of elements (any type), mutable.\n",
        "- Example: `\"hello\"[0] = \"H\"vs `[1,2,3][0]=10`\n",
        "\n",
        "# 7. How do tuples ensure data integrity?\n",
        "- Tuples are immutable, meaning their values cannot be modified, making them reliable for constant data storage.\n",
        "\n",
        "# 8. What is a hash table, and how does it relate to dictionaries in Python?\n",
        "- Hash table: Data structure that stores key-value pairs using hashing.\n",
        "- Python dictionaries are implemented using hash tables.\n",
        "\n",
        "# 9. Can lists contain different data types in Python?\n",
        "- Yes. Example: `[1, \"apple\", 3.14, True]`\n",
        "\n",
        "# 10. Why are strings immutable in Python?\n",
        "- For memory efficiency and security; immutability allows strings to be cached and reused.\n",
        "\n",
        "# 11. Advantages of dictionaries over lists:\n",
        "- Faster lookups by key, unordered key-value storage, flexible mappings.\n",
        "\n",
        "# 12. Scenario where tuple is preferable over list:\n",
        "- Storing constant values (like coordinates `(x,y)` or database keys) where modification is not allowed.\n",
        "\n",
        "# 13. How do sets handle duplicates?\n",
        "- Automatically remove duplicates. Example: `{1,2,2,3}` → `{1,2,3}`\n",
        "\n",
        "# 14. How does the `in` keyword work differently for lists and dictionaries?\n",
        "- List: Checks if element exists. `2 in [1,2,3] → True`\n",
        "- Dictionary: Checks keys, not values. `\"age\" in {\"age\":25} → True`\n",
        "\n",
        "# 15. Can you modify tuple elements? Why or why not?\n",
        "- No, because tuples are immutable.\n",
        "\n",
        "# 16. What is a nested dictionary? Example:\n",
        "- A nested dictionary in Python is simply a dictionary that contains another dictionary (or multiple dictionaries) as one or more of its values.\n",
        "    student = {\n",
        "        \"name\": \"Alice\",\n",
        "        \"marks\": {\"math\": 90, \"science\": 85}\n",
        "    }\n",
        "  \n",
        "\n",
        "# 17. Time complexity of accessing dictionary elements:\n",
        "- Average case: **O(1)** (constant time).\n",
        "\n",
        "# 18. When are lists preferred over dictionaries?\n",
        "- When order matters, duplicates are needed, or data doesn’t need key-value mapping.\n",
        "\n",
        "# 19. Why are dictionaries considered unordered?\n",
        "- They store data based on hash values, not sequence (though from Python 3.7+, insertion order is preserved).\n",
        "\n",
        "# 20. Difference between list and dictionary in terms of data retrieval:\n",
        "- List → Access by index (position). Example: `mylist[0]`\n",
        "- Dictionary → Access by key. Example: `mydict[\"name\"]`\n",
        "\n"
      ],
      "metadata": {
        "id": "yCrKVIWOnpor"
      }
    },
    {
      "cell_type": "markdown",
      "source": [
        "# Practical Questions – Solutions (Python Code)"
      ],
      "metadata": {
        "id": "i_pLE-Lln__b"
      }
    },
    {
      "cell_type": "code",
      "source": [
        "# 1. Create a string with your name\n",
        "name = \"Shrinidhi\"\n",
        "print(name)"
      ],
      "metadata": {
        "colab": {
          "base_uri": "https://localhost:8080/"
        },
        "id": "ImFrJpcGjN0F",
        "outputId": "34d2fac2-d9fc-44eb-a09d-4d71c3958e8b"
      },
      "execution_count": null,
      "outputs": [
        {
          "output_type": "stream",
          "name": "stdout",
          "text": [
            "Shrinidhi\n"
          ]
        }
      ]
    },
    {
      "cell_type": "code",
      "source": [
        "# 2. Length of \"Hello World\"\n",
        "print(len(\"Hello World\"))"
      ],
      "metadata": {
        "colab": {
          "base_uri": "https://localhost:8080/"
        },
        "id": "FxIwQ0KMmq7X",
        "outputId": "b6663562-6870-4b63-aa03-f5b165b38736"
      },
      "execution_count": null,
      "outputs": [
        {
          "output_type": "stream",
          "name": "stdout",
          "text": [
            "11\n"
          ]
        }
      ]
    },
    {
      "cell_type": "code",
      "source": [
        "# 3. Slice first 3 chars from \"Python Programming\"\n",
        "print(\"Python Programming\"[:3])"
      ],
      "metadata": {
        "colab": {
          "base_uri": "https://localhost:8080/"
        },
        "id": "n8738dqzjSgp",
        "outputId": "7aeeb4a3-dd01-4096-8f00-06bfb5714ed1"
      },
      "execution_count": null,
      "outputs": [
        {
          "output_type": "stream",
          "name": "stdout",
          "text": [
            "Pyt\n"
          ]
        }
      ]
    },
    {
      "cell_type": "code",
      "source": [
        "# 4. Convert \"hello\" to uppercase\n",
        "print(\"hello\".upper())"
      ],
      "metadata": {
        "colab": {
          "base_uri": "https://localhost:8080/"
        },
        "id": "N6ZVmZXujdQh",
        "outputId": "b4247488-a59d-48a0-85b9-8ecf1ccbcd59"
      },
      "execution_count": null,
      "outputs": [
        {
          "output_type": "stream",
          "name": "stdout",
          "text": [
            "HELLO\n"
          ]
        }
      ]
    },
    {
      "cell_type": "code",
      "source": [
        "# 5. Replace \"apple\" with \"orange\"\n",
        "print(\"I like apple\".replace(\"apple\", \"orange\"))"
      ],
      "metadata": {
        "colab": {
          "base_uri": "https://localhost:8080/"
        },
        "id": "sZ9HP479jlOb",
        "outputId": "d8623a04-9bf1-4930-d548-e5b087265177"
      },
      "execution_count": null,
      "outputs": [
        {
          "output_type": "stream",
          "name": "stdout",
          "text": [
            "I like orange\n"
          ]
        }
      ]
    },
    {
      "cell_type": "code",
      "source": [
        "# 6. Create list 1 to 5\n",
        "nums = [1, 2, 3, 4, 5]\n",
        "print(nums)"
      ],
      "metadata": {
        "colab": {
          "base_uri": "https://localhost:8080/"
        },
        "id": "lYqz-29fjqGo",
        "outputId": "9cc9a790-503b-43a8-e133-625e8ab3034e"
      },
      "execution_count": null,
      "outputs": [
        {
          "output_type": "stream",
          "name": "stdout",
          "text": [
            "[1, 2, 3, 4, 5]\n"
          ]
        }
      ]
    },
    {
      "cell_type": "code",
      "source": [
        "# 7. Append 10\n",
        "nums = [1, 2, 3, 4]\n",
        "nums.append(10)\n",
        "print(nums)"
      ],
      "metadata": {
        "colab": {
          "base_uri": "https://localhost:8080/"
        },
        "id": "ZW9OoT32jtC-",
        "outputId": "47e55b15-389d-4c2f-e56e-4c64c7e9a49d"
      },
      "execution_count": null,
      "outputs": [
        {
          "output_type": "stream",
          "name": "stdout",
          "text": [
            "[1, 2, 3, 4, 10]\n"
          ]
        }
      ]
    },
    {
      "cell_type": "code",
      "source": [
        "# 8. Remove 3\n",
        "nums = [1, 2, 3, 4, 5]\n",
        "nums.remove(3)\n",
        "print(nums)"
      ],
      "metadata": {
        "colab": {
          "base_uri": "https://localhost:8080/"
        },
        "id": "G44fY-bpjwJp",
        "outputId": "ee83d15e-d07d-43e9-fb27-b235a890b97d"
      },
      "execution_count": null,
      "outputs": [
        {
          "output_type": "stream",
          "name": "stdout",
          "text": [
            "[1, 2, 4, 5]\n"
          ]
        }
      ]
    },
    {
      "cell_type": "code",
      "source": [
        "# 9. Access 2nd element\n",
        "letters = ['a', 'b', 'c', 'd']\n",
        "print(letters[1])"
      ],
      "metadata": {
        "colab": {
          "base_uri": "https://localhost:8080/"
        },
        "id": "VnHuNmSgjysf",
        "outputId": "f941de5a-76ed-4bae-d908-417bd7bc59fc"
      },
      "execution_count": null,
      "outputs": [
        {
          "output_type": "stream",
          "name": "stdout",
          "text": [
            "b\n"
          ]
        }
      ]
    },
    {
      "cell_type": "code",
      "source": [
        "# 10. Reverse list\n",
        "nums = [10, 20, 30, 40, 50]\n",
        "print(nums[::-1])"
      ],
      "metadata": {
        "colab": {
          "base_uri": "https://localhost:8080/"
        },
        "id": "cSaA-zixj1ta",
        "outputId": "877b0ac0-1daa-4ffb-8251-1dc3e4a691d0"
      },
      "execution_count": null,
      "outputs": [
        {
          "output_type": "stream",
          "name": "stdout",
          "text": [
            "[50, 40, 30, 20, 10]\n"
          ]
        }
      ]
    },
    {
      "cell_type": "code",
      "source": [
        "# 11. Tuple with 100,200,300\n",
        "t = (100, 200, 300)\n",
        "print(t)"
      ],
      "metadata": {
        "colab": {
          "base_uri": "https://localhost:8080/"
        },
        "id": "qghlXgyFj5GL",
        "outputId": "366782e5-6b85-457b-bbf3-e5cddab658ff"
      },
      "execution_count": null,
      "outputs": [
        {
          "output_type": "stream",
          "name": "stdout",
          "text": [
            "(100, 200, 300)\n"
          ]
        }
      ]
    },
    {
      "cell_type": "code",
      "source": [
        "# 12. Access second-to-last element\n",
        "colors = ('red', 'green', 'blue', 'yellow')\n",
        "print(colors[-2])"
      ],
      "metadata": {
        "colab": {
          "base_uri": "https://localhost:8080/"
        },
        "id": "9AAgL3zxj8nJ",
        "outputId": "5119cff7-1b4f-47b1-bca4-efd84d6b9fab"
      },
      "execution_count": null,
      "outputs": [
        {
          "output_type": "stream",
          "name": "stdout",
          "text": [
            "blue\n"
          ]
        }
      ]
    },
    {
      "cell_type": "code",
      "source": [
        "# 13. Find min in tuple\n",
        "t = (10, 20, 5, 15)\n",
        "print(min(t))"
      ],
      "metadata": {
        "colab": {
          "base_uri": "https://localhost:8080/"
        },
        "id": "g6zPvBMSkAKf",
        "outputId": "f0d48a98-81dc-4b92-a8b0-4015e55efcae"
      },
      "execution_count": null,
      "outputs": [
        {
          "output_type": "stream",
          "name": "stdout",
          "text": [
            "5\n"
          ]
        }
      ]
    },
    {
      "cell_type": "code",
      "source": [
        "# 14. Index of \"cat\"\n",
        "animals = ('dog', 'cat', 'rabbit')\n",
        "print(animals.index(\"cat\"))"
      ],
      "metadata": {
        "colab": {
          "base_uri": "https://localhost:8080/"
        },
        "id": "SwyQZNxmkFO1",
        "outputId": "cfdb3fac-c4bf-4e3a-a200-5a0da0cedbe2"
      },
      "execution_count": null,
      "outputs": [
        {
          "output_type": "stream",
          "name": "stdout",
          "text": [
            "1\n"
          ]
        }
      ]
    },
    {
      "cell_type": "code",
      "source": [
        "# 15. Check if \"kiwi\" is in fruits\n",
        "fruits = (\"apple\", \"banana\", \"mango\")\n",
        "print(\"kiwi\" in fruits)\n"
      ],
      "metadata": {
        "colab": {
          "base_uri": "https://localhost:8080/"
        },
        "id": "lMQxsReXkKlZ",
        "outputId": "19076636-b401-4bef-b86d-9777952671b2"
      },
      "execution_count": null,
      "outputs": [
        {
          "output_type": "stream",
          "name": "stdout",
          "text": [
            "False\n"
          ]
        }
      ]
    },
    {
      "cell_type": "code",
      "source": [
        "# 16. Create set\n",
        "s = {'a', 'b', 'c'}\n",
        "print(s)"
      ],
      "metadata": {
        "colab": {
          "base_uri": "https://localhost:8080/"
        },
        "id": "bYAPibg6kOH_",
        "outputId": "11fda5b4-f617-4439-c2b5-ba8ca8a54dd8"
      },
      "execution_count": null,
      "outputs": [
        {
          "output_type": "stream",
          "name": "stdout",
          "text": [
            "{'b', 'a', 'c'}\n"
          ]
        }
      ]
    },
    {
      "cell_type": "code",
      "source": [
        "# 17. Clear set\n",
        "s = {1, 2, 3, 4, 5}\n",
        "s.clear()\n",
        "print(s)"
      ],
      "metadata": {
        "colab": {
          "base_uri": "https://localhost:8080/"
        },
        "id": "yH5f82YAkRMQ",
        "outputId": "12cfcaf9-8ab1-471d-8888-7b71e387aec2"
      },
      "execution_count": null,
      "outputs": [
        {
          "output_type": "stream",
          "name": "stdout",
          "text": [
            "set()\n"
          ]
        }
      ]
    },
    {
      "cell_type": "code",
      "source": [
        "# 18. Remove 4\n",
        "s = {1, 2, 3, 4}\n",
        "s.remove(4)\n",
        "print(s)"
      ],
      "metadata": {
        "colab": {
          "base_uri": "https://localhost:8080/"
        },
        "id": "uxRM8Inak3ji",
        "outputId": "0d1bb45d-5596-4028-ff73-03b7b6fd61cf"
      },
      "execution_count": null,
      "outputs": [
        {
          "output_type": "stream",
          "name": "stdout",
          "text": [
            "{1, 2, 3}\n"
          ]
        }
      ]
    },
    {
      "cell_type": "code",
      "source": [
        "# 19. Union\n",
        "s1 = {1, 2, 3}\n",
        "s2 = {3, 4, 5}\n",
        "print(s1.union(s2))"
      ],
      "metadata": {
        "colab": {
          "base_uri": "https://localhost:8080/"
        },
        "id": "YH8F1D49k-Cv",
        "outputId": "3f2f9f70-cb49-40bd-b35e-5b1e08c5263c"
      },
      "execution_count": null,
      "outputs": [
        {
          "output_type": "stream",
          "name": "stdout",
          "text": [
            "{1, 2, 3, 4, 5}\n"
          ]
        }
      ]
    },
    {
      "cell_type": "code",
      "source": [
        "# 20. Intersection\n",
        "s1 = {1, 2, 3}\n",
        "s2 = {2, 3, 4}\n",
        "print(s1.intersection(s2))"
      ],
      "metadata": {
        "colab": {
          "base_uri": "https://localhost:8080/"
        },
        "id": "sbVvW_33lDGd",
        "outputId": "8f1ae1f5-d9fc-4ccf-c456-3b0ff4d207fb"
      },
      "execution_count": null,
      "outputs": [
        {
          "output_type": "stream",
          "name": "stdout",
          "text": [
            "{2, 3}\n"
          ]
        }
      ]
    },
    {
      "cell_type": "code",
      "source": [
        "# 21. Dictionary\n",
        "d = {\"name\": \"John\", \"age\": 25, \"city\": \"NY\"}\n",
        "print(d)"
      ],
      "metadata": {
        "colab": {
          "base_uri": "https://localhost:8080/"
        },
        "id": "fdzpbn2glOpY",
        "outputId": "2290a03c-dac9-48d1-b7a6-e99d54f9093f"
      },
      "execution_count": null,
      "outputs": [
        {
          "output_type": "stream",
          "name": "stdout",
          "text": [
            "{'name': 'John', 'age': 25, 'city': 'NY'}\n"
          ]
        }
      ]
    },
    {
      "cell_type": "code",
      "source": [
        "# 22. Add new key-value\n",
        "d = {'name': 'John', 'age': 25}\n",
        "d['country'] = 'USA'\n",
        "print(d)"
      ],
      "metadata": {
        "colab": {
          "base_uri": "https://localhost:8080/"
        },
        "id": "l8azoPXdlSfJ",
        "outputId": "a2713de4-4949-4355-a773-4a41ff9caced"
      },
      "execution_count": null,
      "outputs": [
        {
          "output_type": "stream",
          "name": "stdout",
          "text": [
            "{'name': 'John', 'age': 25, 'country': 'USA'}\n"
          ]
        }
      ]
    },
    {
      "cell_type": "code",
      "source": [
        "# 23. Access value of \"name\"\n",
        "d = {'name': 'Alice', 'age': 30}\n",
        "print(d['name'])"
      ],
      "metadata": {
        "colab": {
          "base_uri": "https://localhost:8080/"
        },
        "id": "h2Hj0Gl_lXOA",
        "outputId": "9d0c8ff3-ef06-45cc-8947-422292876b19"
      },
      "execution_count": null,
      "outputs": [
        {
          "output_type": "stream",
          "name": "stdout",
          "text": [
            "Alice\n"
          ]
        }
      ]
    },
    {
      "cell_type": "code",
      "source": [
        "# 24. Remove \"age\"\n",
        "d = {'name': 'Bob', 'age': 22, 'city': 'New York'}\n",
        "del d['age']\n",
        "print(d)"
      ],
      "metadata": {
        "colab": {
          "base_uri": "https://localhost:8080/"
        },
        "id": "XMZZs7pEld17",
        "outputId": "5ae2060e-71d1-4636-e28e-5bac79367db8"
      },
      "execution_count": null,
      "outputs": [
        {
          "output_type": "stream",
          "name": "stdout",
          "text": [
            "{'name': 'Bob', 'city': 'New York'}\n"
          ]
        }
      ]
    },
    {
      "cell_type": "code",
      "source": [
        "# 25. Check if key exists\n",
        "d = {'name': 'Alice', 'city': 'Paris'}\n",
        "print(\"city\" in d)"
      ],
      "metadata": {
        "colab": {
          "base_uri": "https://localhost:8080/"
        },
        "id": "NDzp_6welkw-",
        "outputId": "206188c2-2fb3-40a2-a631-a5ae142e2c58"
      },
      "execution_count": null,
      "outputs": [
        {
          "output_type": "stream",
          "name": "stdout",
          "text": [
            "True\n"
          ]
        }
      ]
    },
    {
      "cell_type": "code",
      "source": [
        "# 26. Create list, tuple, dict\n",
        "my_list = [1,2,3]\n",
        "my_tuple = (4,5,6)\n",
        "my_dict = {\"a\":1, \"b\":2}\n",
        "print(my_list, my_tuple, my_dict)"
      ],
      "metadata": {
        "colab": {
          "base_uri": "https://localhost:8080/"
        },
        "id": "lKl4jEYnlovA",
        "outputId": "b1310069-09ab-475e-e737-8c30a12f04db"
      },
      "execution_count": null,
      "outputs": [
        {
          "output_type": "stream",
          "name": "stdout",
          "text": [
            "[1, 2, 3] (4, 5, 6) {'a': 1, 'b': 2}\n"
          ]
        }
      ]
    },
    {
      "cell_type": "code",
      "source": [
        "# 27. Random numbers sorted\n",
        "import random\n",
        "nums = random.sample(range(1,101),5)\n",
        "nums.sort()\n",
        "print(nums)"
      ],
      "metadata": {
        "colab": {
          "base_uri": "https://localhost:8080/"
        },
        "id": "UlsHnnSllsoS",
        "outputId": "59504bad-28c7-492f-cd46-5b5fb8c74775"
      },
      "execution_count": null,
      "outputs": [
        {
          "output_type": "stream",
          "name": "stdout",
          "text": [
            "[35, 36, 50, 51, 53]\n"
          ]
        }
      ]
    },
    {
      "cell_type": "code",
      "source": [
        "# 28. List with strings, access 3rd index\n",
        "words = [\"apple\", \"banana\", \"cherry\", \"date\", \"fig\"]\n",
        "print(words[3])\n"
      ],
      "metadata": {
        "colab": {
          "base_uri": "https://localhost:8080/"
        },
        "id": "Y2_dCTaflwP3",
        "outputId": "c71c9257-a613-45a5-a06d-ec0f0a385a2a"
      },
      "execution_count": null,
      "outputs": [
        {
          "output_type": "stream",
          "name": "stdout",
          "text": [
            "date\n"
          ]
        }
      ]
    },
    {
      "cell_type": "code",
      "source": [
        "# 29. Combine two dictionaries\n",
        "d1 = {\"a\":1, \"b\":2}\n",
        "d2 = {\"c\":3, \"d\":4}\n",
        "d1.update(d2)\n",
        "print(d1)"
      ],
      "metadata": {
        "colab": {
          "base_uri": "https://localhost:8080/"
        },
        "id": "x3UULj6Il156",
        "outputId": "870dc779-62a8-4ad6-d288-b29ee614895b"
      },
      "execution_count": null,
      "outputs": [
        {
          "output_type": "stream",
          "name": "stdout",
          "text": [
            "{'a': 1, 'b': 2, 'c': 3, 'd': 4}\n"
          ]
        }
      ]
    },
    {
      "cell_type": "code",
      "source": [
        "# 30. Convert list of strings to set\n",
        "words = [\"apple\", \"banana\", \"apple\", \"cherry\"]\n",
        "print(set(words))"
      ],
      "metadata": {
        "colab": {
          "base_uri": "https://localhost:8080/"
        },
        "id": "A3DzUXNZl56A",
        "outputId": "2685b913-8efe-4bc9-ca39-40fb6a846996"
      },
      "execution_count": null,
      "outputs": [
        {
          "output_type": "stream",
          "name": "stdout",
          "text": [
            "{'banana', 'cherry', 'apple'}\n"
          ]
        }
      ]
    }
  ]
}