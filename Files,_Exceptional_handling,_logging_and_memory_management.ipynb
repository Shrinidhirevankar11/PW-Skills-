{
  "cells": [
    {
      "cell_type": "markdown",
      "metadata": {
        "id": "6CYoPiGhv_s6"
      },
      "source": [
        "# Question And Answers\n",
        "\n",
        "1. What is the difference between interpreted and compiled languages0\n",
        "\n",
        "-A compiled language translates the entire source code into machine code using a compiler before the program runs. This machine code is saved as an executable file, which can be run on its own. Compiled languages like C or Go are usually faster because the code is optimized ahead of time, and errors are caught during compilation. However, you have to recompile the program each time you make changes.\n",
        "- An interpreted language runs the code line by line using an interpreter.You don’t need to compile the code before running it, you just run the script directly.Python is an interpreted language. It’s great for quick testing and development, but it may run slower compared to compiled languages. Also, some errors won’t appear until the interpreter reaches the problematic line during execution.\n",
        "\n",
        "2. F What is exception handling in Python0\n",
        "- Exception handling in Python is a way to deal with errors that occur while a program is running, without crashing the entire program.\n",
        "Python uses try, except, else, and finally blocks to catch and handle exceptions gracefully.\n",
        "\n",
        "3. What is the purpose of the finally block in exception handling0\n",
        "-The finally block in Python exception handling is used to define code that should always run, no matter what happens in the try and except blocks — whether an exception was raised or not.\n",
        "\n",
        "4. What is logging in Python0\n",
        "- Logging in Python is a way to track events that happen while your program runs. It’s like writing a diary for your code — useful for debugging, monitoring, and keeping records of what your program is doing.\n",
        "\n",
        "- Instead of using print() statements, the logging module gives you more control, like setting message levels (info, warning, error, etc.), saving logs to files, and formatting them nicely.\n",
        "\n",
        "5. What is the significance of the __del__ method in Python0\n",
        "- The __del__ method in Python is a special method called a destructor. It's used to define behavior that should happen when an object is about to be destroyed — typically when it’s no longer in use and is being cleaned up by Python’s garbage collector.\n",
        "\n",
        "6. What is the difference between import and from ... import in Python0\n",
        "- The `import` statement in Python is used to bring in an entire module. When you use this method, you access everything in the module by prefixing it with the module name. For example, using `import math` allows you to call `math.sqrt(16)` to get the square root of 16. This approach helps keep your code organized and prevents name conflicts, especially when working with large codebases or multiple modules.\n",
        "\n",
        "- On the other hand, `from ... import` allows you to import specific functions, classes, or variables from a module directly into your current namespace. For instance, `from math import sqrt` lets you use `sqrt(16)` without typing `math.` each time. This can make your code shorter and easier to read, but it also increases the risk of name collisions if different modules have functions or variables with the same names.\n",
        "\n",
        "7. How can you handle multiple exceptions in Python0\n",
        "- In Python, you can handle multiple exceptions using either multiple except blocks or a single except block with a tuple of exception types. This helps you manage different kinds of errors in a clean and controlled way.\n",
        "\n",
        "\n",
        "8. What is the purpose of the with statement when handling files in Python0\n",
        "- The with statement in Python is used to manage resources, like files, more safely and efficiently. When handling files, the purpose of with is to automatically take care of opening and closing the file — even if an error occurs while you're working with it.\n",
        "\n",
        "9. What is the difference between multithreading and multiprocessing0\n",
        "- **Multithreading** in Python allows a program to run multiple threads within a single process. These threads share the same memory space and are lightweight compared to processes. Multithreading is best suited for I/O-bound tasks, such as reading and writing files or handling network operations, where the program spends a lot of time waiting. However, due to Python’s Global Interpreter Lock (GIL), only one thread can execute Python bytecode at a time, which limits true parallel execution in CPU-bound tasks.\n",
        "\n",
        "- **Multiprocessing**, on the other hand, involves running multiple processes, each with its own memory space. This approach is ideal for CPU-bound tasks that require heavy computation, as it bypasses the GIL and allows true parallelism across multiple CPU cores. Although multiprocessing can be more resource-intensive and slower to start due to the overhead of creating new processes, it is much more efficient for tasks that need full CPU utilization.\n",
        "\n",
        "10. What are the advantages of using logging in a program0\n",
        "- **Tracks program execution** — Helps monitor what your code is doing step by step.  \n",
        "- **Easier debugging** — Logs can show what went wrong and where.  \n",
        "- **Severity levels** — Lets you organize messages by importance: `DEBUG`, `INFO`, `WARNING`, `ERROR`, `CRITICAL`.  \n",
        "- **Saves to files** — You can log to files for long-term storage and review later.  \n",
        "- **Highly configurable** — Customize formats, output destinations, and filters.  \n",
        "- **Better than print()** — You can disable or change logging behavior without editing the code.  \n",
        "- **Supports large apps** — Works well in complex or multi-module programs and production systems.  \n",
        "- **Automatic rotation** — Integrates with tools to rotate and archive logs (e.g., `logging.handlers ).\n",
        "\n",
        "11. What is memory management in Python0\n",
        "- Memory management in Python refers to how Python handles the allocation and deallocation of memory to store variables, objects, and data structures during a program’s execution. It ensures that programs use memory efficiently and that unused memory is freed up automatically.\n",
        "\n",
        "12. What are the basic steps involved in exception handling in Python0\n",
        "- **try block** – Write the code that might cause an exception.\n",
        "- **except block**– Handle the exception if one occurs. You can specify the type of exception to catch.\n",
        "- **else block** (optional) – Runs only if no exceptions were raised in the try block.\n",
        "- **finally block** (optional) – Always runs, whether an exception occurred or not; often used for cleanup actions.\n",
        "\n",
        "13. Why is memory management important in Python0\n",
        "-  Prevents memory leaks – Frees up unused memory so your program doesn't slow down or crash.\n",
        "- Improves performance – Efficient memory use helps programs run faster and smoother.\n",
        "- Ensures stability – Reduces the risk of out-of-memory errors or unexpected behavior.\n",
        "- Supports automation – Python’s automatic garbage collector helps developers focus on logic instead of manual cleanup.\n",
        "- Optimizes resource usage – Especially important in resource-limited environments (like embedded systems or large-scale apps).\n",
        "\n",
        " 14. What is the role of try and except in exception handling0\n",
        "- The try block in Python is used to wrap the section of code that might raise an exception during execution. When Python encounters a try block, it attempts to execute all the code inside it. If everything runs without errors, the program continues as normal. However, if an error occurs in the try block, Python immediately stops executing the rest of the block and looks for a matching except block to handle the exception.\n",
        "- The except block is where you define how to respond to specific types of exceptions. If an error occurs in the try block that matches the exception specified in the except block, the code inside the except block will execute. This prevents the program from crashing and allows you to handle errors gracefully, such as displaying a user-friendly message or taking corrective action.\n",
        "\n",
        "\n",
        "15. How does Python's garbage collection system work0\n",
        "- Python's garbage collection system automatically manages memory by reclaiming memory occupied by objects that are no longer in use. This helps keep programs efficient and prevents memory leaks without requiring manual memory management by the programmer.\n",
        "\n",
        "16. What is the purpose of the else block in exception handling0\n",
        "- The else block in Python exception handling is used to define code that should run only if no exceptions were raised in the try block. It provides a clean way to separate error-free logic from error-handling logic.\n",
        "\n",
        "17. What are the common logging levels in Python0\n",
        "- DEBUG – Used for detailed diagnostic information, mainly for developers.\n",
        " Example: logging.debug(\"Variable x = 42\")\n",
        "- INFO – Used to confirm that things are working as expected.\n",
        " Example: logging.info(\"Process started successfully\")\n",
        "- WARNING – Indicates something unexpected, but the program is still running.\n",
        " Example: logging.warning(\"Disk space running low\")\n",
        "- ERROR – A serious problem occurred; the program might not be able to continue running correctly.\n",
        " Example: logging.error(\"Failed to connect to database\")\n",
        "\n",
        "- CRITICAL – A very serious error, usually leading to program termination.\n",
        "  Example: logging.critical(\"System crash imminent\")\n",
        "\n",
        "18. What is the difference between os.fork() and multiprocessing in Python0\n",
        "- **`os.fork()`** is a low-level system call that directly **duplicates the current process**. It is available only on **Unix-like systems** (Linux, macOS) and not on Windows. After calling `os.fork()`, the program continues running in **both the parent and child processes**, and you must manually handle inter-process communication, process termination, and synchronization. It's powerful but error-prone and generally harder to manage.\n",
        "- **`multiprocessing`**, on the other hand, is a high-level Python module that provides an easier and cross-platform way to **create and manage separate processes**. It abstracts away the low-level details of `os.fork()` and provides tools like `Process`, `Queue`, `Pool`, and `Pipe` to handle communication and synchronization between processes safely and cleanly. It works on both **Windows and Unix systems**, making it much more portable and user-friendly.\n",
        "\n",
        "19. What is the importance of closing a file in Python0\n",
        "-  closing a file frees up system resources like file handles, which are limited. Leaving files open unnecessarily can cause your program or system to run out of these resources, especially when working with many files. Using file.close() manually or the with statement (which closes files automatically) is considered good practice to keep your code clean, safe, and efficient.\n",
        "\n",
        "20. What is the difference between file.read() and file.readline() in Python0\n",
        "- The `file.read()` method in Python is used to read the **entire content** of a file at once and return it as a single string. You can also specify the number of characters or bytes you want to read by passing a value to the method (e.g., `file.read(100)`). This method is useful when you need to process the whole file at once and you are sure that the file size is manageable in memory.\n",
        "- In contrast, `file.readline()` reads the file **one line at a time**, returning each line as a string, including the newline character `\\n` at the end. This method is more memory-efficient when working with large files, as it doesn’t load the entire file into memory. It's especially useful in loops when you want to process or analyze each line individually.\n",
        "\n",
        "21. What is the logging module in Python used for0\n",
        "- The **`logging` module** in Python is used to **track events** that happen while your program runs. It allows you to record messages at different severity levels (like info, warnings, or errors), which helps you **debug**, **monitor**, and **troubleshoot** your code more effectively.\n",
        "By using the `logging` module, you can output logs to the console, files, or even remote servers. It also supports formatting, filtering, and categorizing log messages, making it a **powerful and flexible alternative** to using simple `print()` statements. This makes it especially useful for larger applications and production environments.\n",
        "\n",
        "22. What is the os module in Python used for in file handling0\n",
        "- The os module in Python is used in file handling to interact with the operating system, allowing you to perform various file and directory-related operations. It provides functions to create, delete, rename, move, and inspect files and folders.\n",
        "\n",
        "23. What are the challenges associated with memory management in Python0\n",
        "- Circular references – Objects referencing each other can delay or prevent garbage collection.\n",
        "- Memory leaks – Caused by lingering references to unused objects, such as global variables or caches.\n",
        "- Large data structures – Can consume excessive memory if not optimized or cleaned up properly.\n",
        "- Delayed garbage collection – The garbage collector may not immediately free unused memory.\n",
        "- Global Interpreter Lock (GIL) – Can limit memory efficiency in multi-threaded programs.\n",
        "- Inefficient object use – Overuse of temporary or unnecessary objects increases memory load.\n",
        "- Not all objects are collectible – Some resources (like file handles) require manual cleanup.\n",
        "\n",
        "24. How do you raise an exception manually in Python0\n",
        "- In Python, you can raise an exception manually using the raise statement. This is typically done when you want to flag that an error or unexpected condition has occurred in your code, even if Python hasn’t detected it automatically.\n",
        "\n",
        "25. Why is it important to use multithreading in certain applications?\n",
        "- Using multithreading in certain applications is important because it allows a program to perform multiple tasks concurrently, leading to improved efficiency, better responsiveness, and faster execution in the right scenarios."
      ]
    },
    {
      "cell_type": "markdown",
      "metadata": {
        "id": "7Nj5XN0D6RXI"
      },
      "source": [
        "# Program"
      ]
    },
    {
      "cell_type": "code",
      "execution_count": 6,
      "metadata": {
        "id": "rSmBvFCq7ESP"
      },
      "outputs": [],
      "source": [
        "# 1. How can you open a file for writing in Python and write a string to it?\n",
        "with open(\"data.txt\", \"w\") as file:\n",
        "    # Write a string to the file\n",
        "    file.write(\"Hello, this is a string written to the file!\")\n",
        "\n"
      ]
    },
    {
      "cell_type": "code",
      "execution_count": 4,
      "metadata": {
        "colab": {
          "base_uri": "https://localhost:8080/"
        },
        "id": "axy6uUVA7qH-",
        "outputId": "17037170-21c0-4e9e-83fb-b439e0b34f80"
      },
      "outputs": [
        {
          "output_type": "stream",
          "name": "stdout",
          "text": [
            "Hello, this is a string written to the file!"
          ]
        }
      ],
      "source": [
        "# 2. Write a Python program to read the contents of a file and print each line.\n",
        "with open('data.txt', 'r') as file:\n",
        "    for line in file:\n",
        "        print(line, end='')\n"
      ]
    },
    {
      "cell_type": "code",
      "execution_count": 5,
      "metadata": {
        "colab": {
          "base_uri": "https://localhost:8080/"
        },
        "id": "ZWka610f8TYN",
        "outputId": "edb3706a-b6c8-47e3-d8fb-08a21c2c1b53"
      },
      "outputs": [
        {
          "output_type": "stream",
          "name": "stdout",
          "text": [
            "The file does not exist.\n"
          ]
        }
      ],
      "source": [
        "# 3. How would you handle a case where the file doesn't exist while trying to open it for reading?\n",
        "try:\n",
        "    with open('nonexistent_file.txt', 'r') as file:\n",
        "        content = file.read()\n",
        "        print(content)\n",
        "except FileNotFoundError:\n",
        "    print(\"The file does not exist.\")\n"
      ]
    },
    {
      "cell_type": "code",
      "source": [
        "# 4.  Write a Python script that reads from one file and writes its content to another file.\n",
        "with open('data.txt', 'r') as source_file:\n",
        "    content = source_file.read()\n",
        "\n",
        "with open('new_data.txt', 'w') as destination_file:\n",
        "    destination_file.write(content)"
      ],
      "metadata": {
        "id": "aRNac7rg5vBq"
      },
      "execution_count": 8,
      "outputs": []
    },
    {
      "cell_type": "code",
      "execution_count": null,
      "metadata": {
        "colab": {
          "base_uri": "https://localhost:8080/"
        },
        "id": "VBbHZcrIGU4T",
        "outputId": "56c79fb7-fe84-42fc-ee0a-39e9f91900b6"
      },
      "outputs": [
        {
          "name": "stdout",
          "output_type": "stream",
          "text": [
            "Oops! You can't divide by zero.\n"
          ]
        }
      ],
      "source": [
        "# 5. How would you catch and handle division by zero error in Python?\n",
        "try:\n",
        "    # Attempt division\n",
        "    result = 10 / 0\n",
        "    print(\"Result:\", result)\n",
        "\n",
        "except ZeroDivisionError:\n",
        "    # Handle the error if it happens\n",
        "    print(\"Oops! You can't divide by zero.\")\n"
      ]
    },
    {
      "cell_type": "code",
      "execution_count": null,
      "metadata": {
        "colab": {
          "base_uri": "https://localhost:8080/"
        },
        "id": "D4WHOUwAb4e4",
        "outputId": "afee36ce-80c5-4e16-8a82-86c5b1f76595"
      },
      "outputs": [
        {
          "name": "stderr",
          "output_type": "stream",
          "text": [
            "ERROR:root:Division by zero occurred.\n"
          ]
        },
        {
          "name": "stdout",
          "output_type": "stream",
          "text": [
            "Program continues...\n"
          ]
        }
      ],
      "source": [
        "# 6. Write a Python program that logs an error message to a log file when a division by zero exception occurs.\n",
        "import logging\n",
        "\n",
        "# Set up the logging configuration\n",
        "logging.basicConfig(filename='error_log.txt', level=logging.ERROR)\n",
        "\n",
        "try:\n",
        "    # Example division that will cause an error\n",
        "    result = 10 / 0\n",
        "    print(\"Result:\", result)\n",
        "\n",
        "except ZeroDivisionError:\n",
        "    # Log the error to a file instead of printing\n",
        "    logging.error(\"Division by zero occurred.\")\n",
        "\n",
        "print(\"Program continues...\")\n"
      ]
    },
    {
      "cell_type": "code",
      "execution_count": null,
      "metadata": {
        "colab": {
          "base_uri": "https://localhost:8080/"
        },
        "id": "4x93LzAncKLI",
        "outputId": "6d513b55-737c-4cdf-b5e7-812968297328"
      },
      "outputs": [
        {
          "name": "stderr",
          "output_type": "stream",
          "text": [
            "WARNING:root:This is a warning message.\n",
            "ERROR:root:This is an error message.\n"
          ]
        }
      ],
      "source": [
        "# 7. How do you log information at different levels (INFO, ERROR, WARNING) in Python using the logging module\n",
        "import logging\n",
        "\n",
        "# Set up basic logging configuration\n",
        "logging.basicConfig(\n",
        "    filename='app_log.txt',\n",
        "    level=logging.DEBUG,\n",
        "    format='%(asctime)s - %(levelname)s - %(message)s'\n",
        ")\n",
        "\n",
        "logging.info(\"This is an info message.\")\n",
        "logging.warning(\"This is a warning message.\")\n",
        "logging.error(\"This is an error message.\")\n"
      ]
    },
    {
      "cell_type": "code",
      "execution_count": null,
      "metadata": {
        "colab": {
          "base_uri": "https://localhost:8080/"
        },
        "id": "Tj6m1S7NcrN2",
        "outputId": "1e216f18-7bf1-4716-e21b-145168544b9f"
      },
      "outputs": [
        {
          "name": "stdout",
          "output_type": "stream",
          "text": [
            "Error: The file you are trying to open does not exist.\n"
          ]
        }
      ],
      "source": [
        "# 8. Write a program to handle a file opening error using exception handling.\n",
        "try:\n",
        "    # Try to open a file that may not exist\n",
        "    file = open('my_file.txt', 'r')\n",
        "    content = file.read()\n",
        "    print(content)\n",
        "    file.close()\n",
        "\n",
        "except FileNotFoundError:\n",
        "    # This block runs if the file is not found\n",
        "    print(\"Error: The file you are trying to open does not exist.\")\n"
      ]
    },
    {
      "cell_type": "code",
      "execution_count": 9,
      "metadata": {
        "id": "H8aD8sWVc1Xq",
        "colab": {
          "base_uri": "https://localhost:8080/"
        },
        "outputId": "b88bf2ab-5f78-43f5-f61e-b8140a8da290"
      },
      "outputs": [
        {
          "output_type": "stream",
          "name": "stdout",
          "text": [
            "Hello, this is a string written to the file!"
          ]
        }
      ],
      "source": [
        "# 9. How can you read a file line by line and store its content in a list in Python.\n",
        "with open('data.txt', 'r') as file:\n",
        "    lines = file.readlines()\n",
        "    for line in lines:\n",
        "        print(line, end='')\n"
      ]
    },
    {
      "cell_type": "code",
      "execution_count": null,
      "metadata": {
        "id": "ILUGcj-WdgC2"
      },
      "outputs": [],
      "source": [
        "#. 10 How can you append data to an existing file in Python\n",
        "with open('example.txt', 'a') as file:\n",
        "    # Write new data at the end of the file\n",
        "    file.write(\"This line is added at the end.\\n\")\n"
      ]
    },
    {
      "cell_type": "code",
      "execution_count": null,
      "metadata": {
        "colab": {
          "base_uri": "https://localhost:8080/"
        },
        "id": "R4I04MyUd4DT",
        "outputId": "4ef07b9c-cb23-42b3-d9fe-706eace7627b"
      },
      "outputs": [
        {
          "name": "stdout",
          "output_type": "stream",
          "text": [
            "Oops! The key 'city' does not exist in the dictionary.\n"
          ]
        }
      ],
      "source": [
        "# 11. Write a Python program that uses a try-except block to handle an error when attempting to access a dictionary key that doesn't exist.\n",
        "my_dict = {\n",
        "    \"name\": \"Shrinidhi\",\n",
        "    \"age\": 20\n",
        "}\n",
        "\n",
        "try:\n",
        "    # Try to access a key that might not exist\n",
        "    print(\"City:\", my_dict[\"city\"])\n",
        "\n",
        "except KeyError:\n",
        "    # Handle the error if the key is not found\n",
        "    print(\"Oops! The key 'city' does not exist in the dictionary.\")\n"
      ]
    },
    {
      "cell_type": "code",
      "execution_count": null,
      "metadata": {
        "colab": {
          "base_uri": "https://localhost:8080/"
        },
        "id": "3V8BCU0tfAWS",
        "outputId": "26623a23-3748-41d8-8368-f12af1b62cf5"
      },
      "outputs": [
        {
          "name": "stdout",
          "output_type": "stream",
          "text": [
            "Enter first number: h\n",
            "Oops! Please enter only numbers.\n"
          ]
        }
      ],
      "source": [
        "# 12. Write a program that demonstrates using multiple except blocks to handle different types of exceptions\n",
        "try:\n",
        "    # Ask user to enter two numbers\n",
        "    num1 = int(input(\"Enter first number: \"))\n",
        "    num2 = int(input(\"Enter second number: \"))\n",
        "\n",
        "    # Try to divide the numbers\n",
        "    result = num1 / num2\n",
        "    print(\"Result:\", result)\n",
        "\n",
        "except ValueError:\n",
        "    # Handles invalid input (like letters instead of numbers)\n",
        "    print(\"Oops! Please enter only numbers.\")\n",
        "\n",
        "except ZeroDivisionError:\n",
        "    # Handles division by zero\n",
        "    print(\"Oops! You can't divide by zero.\")\n",
        "\n",
        "except Exception as e:\n",
        "    # Handles any other unexpected errors\n",
        "    print(\"Something went wrong:\", e)\n"
      ]
    },
    {
      "cell_type": "code",
      "execution_count": null,
      "metadata": {
        "colab": {
          "base_uri": "https://localhost:8080/"
        },
        "id": "q-t-aNlCfX34",
        "outputId": "a04ff451-ca57-46f4-e06b-93a3542bf749"
      },
      "outputs": [
        {
          "name": "stdout",
          "output_type": "stream",
          "text": [
            "This line is added at the end.\n",
            "This line is added at the end.\n",
            "This line is added at the end.\n",
            "\n"
          ]
        }
      ],
      "source": [
        "# 13.How would you check if a file exists before attempting to read it in Python\n",
        "import os\n",
        "\n",
        "# File path to check\n",
        "file_path = 'example.txt'\n",
        "\n",
        "# Check if the file exists\n",
        "if os.path.exists(file_path):\n",
        "    with open(file_path, 'r') as file:\n",
        "        content = file.read()\n",
        "        print(content)\n",
        "else:\n",
        "    print(\"The file does not exist.\")\n",
        "\n"
      ]
    },
    {
      "cell_type": "code",
      "execution_count": null,
      "metadata": {
        "colab": {
          "base_uri": "https://localhost:8080/"
        },
        "id": "hAnqCT_ggIuq",
        "outputId": "791af280-aad2-41b9-ff4d-8606b46e67a2"
      },
      "outputs": [
        {
          "name": "stderr",
          "output_type": "stream",
          "text": [
            "ERROR:root:Attempted to divide by zero.\n"
          ]
        }
      ],
      "source": [
        "# 14. Write a program that uses the logging module to log both informational and error messages\n",
        "import logging\n",
        "logging.basicConfig(\n",
        "    filename='app_log.txt',\n",
        "    level=logging.INFO,\n",
        "    format='%(asctime)s - %(levelname)s - %(message)s'\n",
        ")\n",
        "logging.info(\"Program started successfully.\")\n",
        "\n",
        "try:\n",
        "    num1 = 10\n",
        "    num2 = 0\n",
        "    result = num1 / num2\n",
        "    logging.info(f\"Division result: {result}\")\n",
        "\n",
        "except ZeroDivisionError:\n",
        "    logging.error(\"Attempted to divide by zero.\")"
      ]
    },
    {
      "cell_type": "code",
      "execution_count": null,
      "metadata": {
        "colab": {
          "base_uri": "https://localhost:8080/"
        },
        "id": "pSnAR266gyVF",
        "outputId": "7982d570-ab2c-4e3d-9d35-947d81309910"
      },
      "outputs": [
        {
          "name": "stdout",
          "output_type": "stream",
          "text": [
            "File content:\n",
            "\n",
            "This line is added at the end.\n",
            "This line is added at the end.\n",
            "This line is added at the end.\n",
            "\n"
          ]
        }
      ],
      "source": [
        "# 15. Write a Python program that prints the content of a file and handles the case when the file is empty.\n",
        "try:\n",
        "    # Open the file in read mode\n",
        "    with open('example.txt', 'r') as file:\n",
        "        content = file.read()\n",
        "\n",
        "        # Check if the file is empty\n",
        "        if content.strip() == \"\":\n",
        "            print(\"The file is empty.\")\n",
        "        else:\n",
        "            print(\"File content:\\n\")\n",
        "            print(content)\n",
        "\n",
        "except FileNotFoundError:\n",
        "    print(\"Error: The file does not exist.\")\n"
      ]
    },
    {
      "cell_type": "code",
      "execution_count": null,
      "metadata": {
        "colab": {
          "base_uri": "https://localhost:8080/"
        },
        "id": "O4YvyusphxGe",
        "outputId": "51825847-7453-4244-8cbf-4b81d86f131f"
      },
      "outputs": [
        {
          "name": "stdout",
          "output_type": "stream",
          "text": [
            "[1, 2, 3, 4, 5]\n",
            "[1, 2, 3, 4, 5]\n",
            "[1, 2, 3, 4, 5]\n",
            "[1, 2, 3, 4, 5]\n",
            "[1, 2, 3, 4, 5]\n"
          ]
        }
      ],
      "source": [
        "# 17. Write a Python program to create and write a list of numbers to a file, one number per line.\n",
        "with open('numbers.txt', 'w') as file:\n",
        "    numbers = [1, 2, 3, 4, 5]\n",
        "    for num in numbers:\n",
        "        file.write(str(num) + '\\n')\n",
        "        print(numbers,)"
      ]
    },
    {
      "cell_type": "code",
      "source": [
        "# 18. How would you implement a basic logging setup that logs to a file with rotation after 1MB.\n",
        "import logging\n",
        "from logging.handlers import RotatingFileHandler\n",
        "\n",
        "# Set up the logging configuration\n",
        "import logging\n",
        "from logging.handlers import RotatingFileHandler\n",
        "\n",
        "# Create a logger\n",
        "logger = logging.getLogger(\"MyLogger\")\n",
        "logger.setLevel(logging.INFO)\n",
        "\n",
        "# Create a rotating file handler (1MB per file, keep up to 5 backups)\n",
        "handler = RotatingFileHandler(\"my_app.log\", maxBytes=1*1024*1024, backupCount=5)\n",
        "handler.setLevel(logging.INFO)\n",
        "\n",
        "# Create a formatter and add it to the handler\n",
        "formatter = logging.Formatter('%(asctime)s - %(levelname)s - %(message)s')\n",
        "handler.setFormatter(formatter)\n",
        "\n",
        "# Add the handler to the logger\n",
        "logger.addHandler(handler)\n",
        "\n",
        "# Example usage\n",
        "logger.info(\"This is an info message.\")\n",
        "logger.error(\"This is an error message.\")\n"
      ],
      "metadata": {
        "colab": {
          "base_uri": "https://localhost:8080/"
        },
        "id": "qM011HmX8-u0",
        "outputId": "b2f25691-0324-486b-d65b-cc114f43751a"
      },
      "execution_count": 25,
      "outputs": [
        {
          "output_type": "stream",
          "name": "stderr",
          "text": [
            "INFO:MyLogger:This is an info message.\n",
            "ERROR:MyLogger:This is an error message.\n"
          ]
        }
      ]
    },
    {
      "cell_type": "code",
      "source": [
        "# 19.  Write a program that handles both IndexError and KeyError using a try-except block.\n",
        "def handle_errors():\n",
        "    my_list = [1, 2, 3]\n",
        "    my_dict = {'a': 100, 'b': 200}\n",
        "\n",
        "    try:\n",
        "        # Attempting to access an invalid index\n",
        "        print(\"List item:\", my_list[5])\n",
        "\n",
        "        # Attempting to access a non-existent key\n",
        "        print(\"Dict value:\", my_dict['z'])\n",
        "\n",
        "    except IndexError:\n",
        "        print(\"Caught an IndexError! You tried to access a list index that doesn't exist.\")\n",
        "\n",
        "    except KeyError:\n",
        "        print(\"Caught a KeyError! You tried to access a dictionary key that doesn't exist.\")\n",
        "\n",
        "handle_errors()\n",
        "\n"
      ],
      "metadata": {
        "colab": {
          "base_uri": "https://localhost:8080/"
        },
        "id": "OnKwWJfz7du7",
        "outputId": "0d9b3a55-c668-42b4-e659-943861a50447"
      },
      "execution_count": 16,
      "outputs": [
        {
          "output_type": "stream",
          "name": "stdout",
          "text": [
            "Caught an IndexError! You tried to access a list index that doesn't exist.\n"
          ]
        }
      ]
    },
    {
      "cell_type": "code",
      "source": [
        "# 20.  How would you open a file and read its contents using a context manager in Python.\n",
        "# Open the file and read its contents using a context manager\n",
        "with open(\"example.txt\", \"r\") as file:\n",
        "    contents = file.read()\n",
        "    print(contents)\n"
      ],
      "metadata": {
        "colab": {
          "base_uri": "https://localhost:8080/"
        },
        "id": "Zl7nDqdM7rhx",
        "outputId": "dd66fd79-f294-488e-e38e-5eed54b42391"
      },
      "execution_count": 17,
      "outputs": [
        {
          "output_type": "stream",
          "name": "stdout",
          "text": [
            "Hello, this is a string written to the file!\n"
          ]
        }
      ]
    },
    {
      "cell_type": "code",
      "source": [
        "# 21. Write a Python program that reads a file and prints the number of occurrences of a specific word.\n",
        "def count_word_occurrences(filename, word_to_count):\n",
        "    try:\n",
        "        with open(filename, 'r') as file:\n",
        "            content = file.read()\n",
        "            word_count = content.lower().split().count(word_to_count.lower())\n",
        "            print(f\"The word '{word_to_count}' appears {word_count} times in '{filename}'.\")\n",
        "    except FileNotFoundError:\n",
        "        print(f\"File '{filename}' not found.\")\n",
        "\n",
        "# Example usage\n",
        "filename = \"example.txt\"\n",
        "word = \"python\"\n",
        "count_word_occurrences(filename, word)\n"
      ],
      "metadata": {
        "colab": {
          "base_uri": "https://localhost:8080/"
        },
        "id": "ugV-hnyO7__Z",
        "outputId": "134c98d1-751a-4e0a-99cb-aaa031763779"
      },
      "execution_count": 18,
      "outputs": [
        {
          "output_type": "stream",
          "name": "stdout",
          "text": [
            "The word 'python' appears 0 times in 'example.txt'.\n"
          ]
        }
      ]
    },
    {
      "cell_type": "code",
      "source": [
        "# 22. How can you check if a file is empty before attempting to read its contents.\n",
        "import os\n",
        "\n",
        "file_path = \"example.txt\"\n",
        "\n",
        "if os.path.getsize(file_path) == 0:\n",
        "    print(\"The file is empty.\")\n",
        "else:\n",
        "    with open(file_path, 'r') as file:\n",
        "        contents = file.read()\n",
        "        print(\"File contents:\\n\", contents)\n"
      ],
      "metadata": {
        "colab": {
          "base_uri": "https://localhost:8080/"
        },
        "id": "wPr3OWfV8Et_",
        "outputId": "a3d8494d-4cc2-49a1-9673-0ae8fb9f9a79"
      },
      "execution_count": 21,
      "outputs": [
        {
          "output_type": "stream",
          "name": "stdout",
          "text": [
            "File contents:\n",
            " Hello, this is a string written to the file!\n"
          ]
        }
      ]
    },
    {
      "cell_type": "code",
      "source": [
        "# 23. Write a Python program that writes to a log file when an error occurs during file handling.\n",
        "import logging\n",
        "\n",
        "# Configure logging\n",
        "logging.basicConfig(filename='error_log.txt', level=logging.ERROR,\n",
        "                    format='%(asctime)s - %(levelname)s - %(message)s')\n",
        "\n",
        "def read_file(filename):\n",
        "    try:\n",
        "        with open(filename, 'r') as file:\n",
        "            content = file.read()\n",
        "            print(\"File content:\\n\", content)\n",
        "    except FileNotFoundError as e:\n",
        "        logging.error(f\"FileNotFoundError: {e}\")\n",
        "        print(\"Error: File not found.\")\n",
        "    except Exception as e:\n",
        "        logging.error(f\"Unexpected error: {e}\")\n",
        "        print(\"An unexpected error occurred.\")\n",
        "\n",
        "# Example usage\n",
        "read_file(\"non_existent_file.txt\")\n"
      ],
      "metadata": {
        "colab": {
          "base_uri": "https://localhost:8080/"
        },
        "id": "TV1kPohL8W2b",
        "outputId": "e62874cd-9ae6-4e6a-9fa5-e4ff71e5431c"
      },
      "execution_count": 22,
      "outputs": [
        {
          "output_type": "stream",
          "name": "stderr",
          "text": [
            "ERROR:root:FileNotFoundError: [Errno 2] No such file or directory: 'non_existent_file.txt'\n"
          ]
        },
        {
          "output_type": "stream",
          "name": "stdout",
          "text": [
            "Error: File not found.\n"
          ]
        }
      ]
    }
  ],
  "metadata": {
    "colab": {
      "toc_visible": true,
      "provenance": []
    },
    "kernelspec": {
      "display_name": "Python 3",
      "name": "python3"
    },
    "language_info": {
      "name": "python"
    }
  },
  "nbformat": 4,
  "nbformat_minor": 0
}