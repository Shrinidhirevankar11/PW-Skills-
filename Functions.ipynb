{
  "nbformat": 4,
  "nbformat_minor": 0,
  "metadata": {
    "colab": {
      "provenance": []
    },
    "kernelspec": {
      "name": "python3",
      "display_name": "Python 3"
    },
    "language_info": {
      "name": "python"
    }
  },
  "cells": [
    {
      "cell_type": "markdown",
      "source": [],
      "metadata": {
        "id": "lfwzjioIzS-l"
      }
    },
    {
      "cell_type": "markdown",
      "source": [
        "\n",
        "# Theory — short, exam-style answers (with examples)\n",
        "\n",
        "#1.Function vs Method in Python\n",
        "- A function is defined with `def` at module level or inside other functions and is called by name:\n",
        "  `def add(a,b): return a+b; add(2,3)`\n",
        "-A method is a function bound to an object/class and is called via that object; it receives the instance as first arg (`self`) for instance methods:\n",
        "  `s = \"hi\"; s.upper()`; or a custom method `obj.do_work()`.\n",
        "\n",
        "# 2. Arguments vs Parameters\n",
        "- Parameters are the variable names in the function definition: `def f(x, y=0, *args, **kwargs):`\n",
        "- Arguments are the actual values you pass when calling: `f(5, y=10)`. Includes positional, keyword, defaulted, variadic (`*args`), and keyword-variadic (`**kwargs`).\n",
        "\n",
        "# 3. Ways to define and call a function\n",
        "- Define: `def`, `lambda` (anonymous), nested functions, methods inside classes.\n",
        "- Call: positional args `f(1,2)`, keyword args `f(y=2,x=1)`, unpacking `f(*t)`, `f(**d)`.\n",
        "-  Example:\n",
        "\n",
        "  ````python\n",
        "  def greet(name, punctuation=\"!\"): return \"Hi \" + name + punctuation\n",
        "  greet(\"Sam\"); greet(name=\"Sam\", punctuation=\"!!\"); args=(\"Sam\", \"?\"); greet(*args)\n",
        "  ``` :contentReference[oaicite:3]{index=3}\n",
        "\n",
        "  ````\n",
        "\n",
        "# 4. Purpose of `return`\n",
        "   Ends the function and sends a value (or `None`) back to the caller. It also allows early exits. Example:\n",
        "   \n",
        "def sign(n):\n",
        "    if n > 0: return \"positive\"\n",
        "    if n < 0: return \"negative\"\n",
        "    return \"zero\" :contentReference[oaicite:4]{index=4}'''\n",
        "\n",
        "#5. Iterables vs Iterators\n",
        "- Iterable: any object you can loop over that can produce an iterator via `iter(obj)` (e.g., list, tuple, str).  \n",
        "- Iterator: an object with `__iter__()` and `__next__()` that yields the next value and raises `StopIteration` when done.  \n",
        "Example:\n",
        "```python\n",
        "nums = [1,2,3]          # iterable\n",
        "it = iter(nums)         # iterator\n",
        "next(it)  # 1; next(it) # 2\n",
        "``` :contentReference[oaicite:5]{index=5}\n",
        "\n",
        "#6. Generators & how they’re defined  \n",
        "Generators are iterators written with `yield` (generator function) or with a generator expression. They produce values lazily.  \n",
        "```python\n",
        "def count_up(n):\n",
        "    for i in range(1, n+1):\n",
        "        yield i\n",
        "g = count_up(3)  # generator\n",
        "````\n",
        "\n",
        "Generator expression: `(x*x for x in range(5))`.&#x20;\n",
        "\n",
        "#7. Advantages of generators\n",
        "\n",
        "* Lazy (memory-efficient) evaluation, can handle large/streaming data.\n",
        "* Natural statefulness without managing indexes.\n",
        "* Potentially faster in pipelines (less intermediate lists).\n",
        "  Example: `sum(x*x for x in range(10_000_000))`.&#x20;\n",
        "\n",
        "#8. Lambda functions & typical use\n",
        "   Small anonymous functions for short, throwaway operations, commonly in `key=` functions, `map`, `filter`, `sorted`:\n",
        "   `sorted(names, key=lambda s: s.lower())`.\n",
        "\n",
        "#9. Purpose/usage of `map()`\n",
        "   Applies a function to each item of one or more iterables, returning an iterator:\n",
        "   `list(map(lambda c: (c*9/5)+32, [0,20,100]))  # Celsius → Fahrenheit`.&#x20;\n",
        "\n",
        "#10. Difference: `map()`, `reduce()`, `filter()`\n",
        "\n",
        "* `map(func, iterable)`: transform each element → new iterator of same length.\n",
        "* `filter(func, iterable)`: keep elements where predicate is truthy → possibly shorter iterator.\n",
        "* `reduce(func, iterable[, initial])` (in `functools`): cumulatively combine elements to **one** value.\n",
        "  Example:\n",
        "\n",
        "````python\n",
        "from functools import reduce\n",
        "data = [1,2,3,4]\n",
        "list(map(lambda x: x*2, data))            # [2,4,6,8]\n",
        "list(filter(lambda x: x%2==0, data))      # [2,4]\n",
        "reduce(lambda a,b: a+b, data, 0)          # 10\n",
        "``` :contentReference[oaicite:10]{index=10}\n",
        "\n",
        "#11. Internal mechanism of `reduce` for `[47, 11, 42, 13]` (sum)\n",
        "Let `f(a,b) = a + b`, initial value `init = 0` (if provided). Steps:  \n",
        "- Start: `acc = 0`  \n",
        "- Step 1: `acc = f(acc, 47) = 0 + 47 = 47`  \n",
        "- Step 2: `acc = f(acc, 11) = 47 + 11 = 58`  \n",
        "- Step 3: `acc = f(acc, 42) = 58 + 42 = 100`  \n",
        "- Step 4: `acc = f(acc, 13) = 100 + 13 = 113`  \n",
        "Final result: **113**. (If no initial value is supplied, `acc` starts as the first item, and reduction begins from the second item.) :contentReference[oaicite:11]{index=11}\n",
        "\n",
        "---\n"
      ],
      "metadata": {
        "id": "5JpBFnjfzTvu"
      }
    },
    {
      "cell_type": "markdown",
      "source": [],
      "metadata": {
        "id": "TcQEV3oh2JZW"
      }
    },
    {
      "cell_type": "code",
      "source": [
        "# 1.Sum of all even numbers\n",
        "def sum_of_evens(nums):\n",
        "    return sum(n for n in nums if n % 2 == 0)"
      ],
      "metadata": {
        "id": "CO9ugzwW2KCE"
      },
      "execution_count": null,
      "outputs": []
    },
    {
      "cell_type": "code",
      "source": [
        "# 2.Reverse a string\n",
        "def reverse_string(s):\n",
        "    return s[::-1]\n"
      ],
      "metadata": {
        "id": "a5aistwa2Q-j"
      },
      "execution_count": null,
      "outputs": []
    },
    {
      "cell_type": "code",
      "source": [
        "# 3. Squares of each number\n",
        "def squares(nums):\n",
        "    return [n*n for n in nums]\n"
      ],
      "metadata": {
        "id": "vUXDck2I2vjo"
      },
      "execution_count": null,
      "outputs": []
    },
    {
      "cell_type": "code",
      "source": [
        "# 4. Check primes from 1 to 200\n",
        "def is_prime(n):\n",
        "    if n < 2: return False\n",
        "    if n in (2,3): return True\n",
        "    if n % 2 == 0 or n % 3 == 0: return False\n",
        "    i, step = 5, 2\n",
        "    while i*i <= n:\n",
        "        if n % i == 0: return False\n",
        "        i += step; step = 6 - step\n",
        "    return True\n",
        "\n",
        "primes = [n for n in range(1, 201) if is_prime(n)]\n"
      ],
      "metadata": {
        "id": "VnMMAsCe20Nr"
      },
      "execution_count": null,
      "outputs": []
    },
    {
      "cell_type": "code",
      "source": [
        "# 5. Iterator class: Fibonacci up to terms\n",
        "class Fibonacci:\n",
        "    def __init__(self, terms):\n",
        "        self.terms, self.count, self.a, self.b = terms, 0, 0, 1\n",
        "    def __iter__(self): return self\n",
        "    def __next__(self):\n",
        "        if self.count >= self.terms: raise StopIteration\n",
        "        if self.count == 0: self.count += 1; return 0\n",
        "        if self.count == 1: self.count += 1; return 1\n",
        "        self.a, self.b = self.b, self.a + self.b\n",
        "        self.count += 1\n",
        "        return self.b\n"
      ],
      "metadata": {
        "id": "wZbDBvx229s7"
      },
      "execution_count": null,
      "outputs": []
    },
    {
      "cell_type": "code",
      "source": [
        "# 6. Generator: powers of 2 up to exponent\n",
        "def pow2_upto(e):\n",
        "    for i in range(e + 1):\n",
        "        yield 2 ** i\n"
      ],
      "metadata": {
        "id": "SXSVUdRK3JFB"
      },
      "execution_count": null,
      "outputs": []
    },
    {
      "cell_type": "code",
      "source": [
        "# 7. Generator: yield file lines\n",
        "def read_lines(path):\n",
        "    with open(path, \"r\", encoding=\"utf-8\") as f:\n",
        "        for line in f:\n",
        "            yield line.rstrip(\"\\n\")\n"
      ],
      "metadata": {
        "id": "eGzMX2Gk3QyD"
      },
      "execution_count": null,
      "outputs": []
    },
    {
      "cell_type": "code",
      "source": [
        "# 8. Lambda to sort list of tuples by 2nd element\n",
        "def sort_by_second(tuples):\n",
        "    return sorted(tuples, key=lambda x: x[1])\n"
      ],
      "metadata": {
        "id": "64yWYMfd3cGZ"
      },
      "execution_count": null,
      "outputs": []
    },
    {
      "cell_type": "code",
      "source": [
        "# 9. map() to convert °C → °F\n",
        "def c_to_f_map(celsius):\n",
        "    return list(map(lambda c: (c * 9/5) + 32, celsius))\n"
      ],
      "metadata": {
        "id": "nZJEl40P3ydH"
      },
      "execution_count": null,
      "outputs": []
    },
    {
      "cell_type": "code",
      "source": [
        "# 10. filter() to remove all vowels from a string\n",
        "def remove_vowels(s):\n",
        "    vowels = set(\"aeiouAEIOU\")\n",
        "    return \"\".join(filter(lambda ch: ch not in vowels, s))\n"
      ],
      "metadata": {
        "id": "mcRC_5oR3rFk"
      },
      "execution_count": null,
      "outputs": []
    },
    {
      "cell_type": "code",
      "source": [
        "# 11. Book-shop accounting with lambda + map\n",
        "def bookshop_totals(orders):\n",
        "    def total(order):\n",
        "        order_no, _, qty, price = order\n",
        "        subtotal = qty * float(price)\n",
        "        return (order_no, subtotal + 10.0 if subtotal < 100.0 else subtotal)\n",
        "    return list(map(lambda order: total(order), orders))\n",
        "\n",
        "# Example:\n",
        "orders = [\n",
        "    [\"34587\", \"Learning Python, Mark Lutz\", 4, 40.95],\n",
        "    [\"98762\", \"Programming Python, Mark Lutz\", 5, 56.80],\n",
        "    [\"77226\", \"Head First Python, Paul Barry\", 3, 32.95],\n",
        "    [\"88112\", \"Einführung in Python3, Bernd Klein\", 3, 24.99],\n",
        "]\n",
        "result = bookshop_totals(orders)\n",
        "# [('34587', 163.8), ('98762', 284.0), ('77226', 98.85 + 10.0), ('88112', 74.97 + 10.0)]\n"
      ],
      "metadata": {
        "id": "km7s2LI43nn6"
      },
      "execution_count": 1,
      "outputs": []
    },
    {
      "cell_type": "markdown",
      "source": [],
      "metadata": {
        "id": "gu7zjuhD2JSc"
      }
    }
  ]
}