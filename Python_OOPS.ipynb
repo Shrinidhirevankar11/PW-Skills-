{
  "nbformat": 4,
  "nbformat_minor": 0,
  "metadata": {
    "colab": {
      "provenance": [],
      "toc_visible": true
    },
    "kernelspec": {
      "name": "python3",
      "display_name": "Python 3"
    },
    "language_info": {
      "name": "python"
    }
  },
  "cells": [
    {
      "cell_type": "markdown",
      "source": [
        "# Python OOPs Questions and Answer:\n",
        "1. What is Object-Oriented Programming (OOP)?\n",
        "- Object-Oriented Programming (OOP) is a programming paradigm that organizes software design around objects, which encapsulate data (attributes) and code (methods) to manipulate that data, promoting modularity, reusability, and maintainability.\n",
        "\n",
        "2. What is a class in OOP?\n",
        "- Object-Oriented Programming (OOP), a class is a blueprint or template for creating objects, defining their attributes (data) and behaviors (methods). It's a user-defined data type that organizes information and enables code reuse.  \n",
        "\n",
        "3. What is an object in OOP?\n",
        "- In object-oriented programming (OOP), an object is a fundamental unit that encapsulates data (attributes or properties) and the actions (methods or functions) that can be performed on that data, representing a real-world entity or concept.\n",
        "\n",
        "4. What is the difference between abstraction and encapsulation?\n",
        "- Encapsulation is the process of bundling data (attributes) and methods (functions) that operate on that data into a single unit, typically a class. It is mainly used to protect the internal state of an object from unauthorized access and accidental modification. This is often achieved by making attributes private or protected and controlling access to them through public methods. For example, in a BankAccount class, the balance can be kept private and only accessed or modified using methods like deposit() or get_balance().\n",
        "- Abstraction, on the other hand, is the concept of hiding unnecessary implementation details and showing only the essential features of an object. It allows the user to focus on what an object does rather than how it does it. Abstraction is typically achieved through abstract classes or interfaces. For instance, in an Animal abstract class, a method sound() might be declared without an implementation, allowing subclasses like Dog or Cat to provide specific behaviors while hiding the common structure from the user.\n",
        "\n",
        "\n",
        "5. What are dunder methods in Python?\n",
        "- In Python, \"dunder methods\" (short for \"double underscore methods\") are special methods, also known as \"magic methods,\" that have double underscores at the beginning and end of their names (e.g., __init__, __str__) and are used to define specific behaviors for built-in operations and functionalities within classes\n",
        "\n",
        "6. Explain the concept of inheritance in OOPH?\n",
        "- In Object-Oriented Programming (OOP), inheritance is a mechanism where a new class (the \"child\" or \"subclass\") automatically inherits properties and behaviors (methods) from an existing class (the \"parent\" or \"superclass\"), promoting code reusability and creating hierarchical relationships between classes.\n",
        "\n",
        "7. What is polymorphism in OOP?\n",
        "- In object-oriented programming (OOP), polymorphism means \"many forms\" and refers to the ability of objects to take on multiple forms or behaviors, allowing objects of different classes to be treated as objects of a common superclass or interface, enhancing flexibility and extensibility.\n",
        "\n",
        "8. How is encapsulation achieved in Python?\n",
        "- In Python, encapsulation, the bundling of data and methods that operate on that data within a class, is achieved through conventions and practices, not strict access modifiers like public, private, or protected as in other languages.\n",
        "\n",
        "9. What is a constructor in Python?\n",
        "- In Python, a constructor is a special method, denoted by __init__, that initializes the attributes of a class when an object (instance) of that class is created.\n",
        "\n",
        "10. What are class and static methods in Python?\n",
        "- In Python, class methods are bound to the class itself (not an instance) and are accessed using the class name.\n",
        "- While static methods are functions within a class that don't have access to the class or instance, essentially just utility functions.\n",
        "\n",
        "11. What is method overloading in Python?\n",
        "- In Python, while the term \"method overloading\" is often used, it's not a feature directly supported like in some other languages (like Java). Instead, Python achieves similar flexibility through techniques like default arguments, variable-length arguments (*args, **kwargs), and conditional logic within a function.\n",
        "\n",
        "12. What is method overriding in OOP?\n",
        "- In Object-Oriented Programming (OOP), method overriding allows a subclass to provide a specific implementation for a method that is already defined in its superclass, enabling specialized behavior while maintaining the same method signature.\n",
        "\n",
        "13. What is a property decorator in Python?\n",
        "- In Python, the @property decorator is a way to define a method that behaves like an attribute — it lets you access a method like a variable, while still allowing logic behind the scenes.\n",
        "\n",
        "14. Why is polymorphism important in OOP?\n",
        "- Polymorphism is important because it helps you:\n",
        "-Write flexible, reusable code\n",
        "-Follow good design principles (OOP)\n",
        "-Extend systems easily without breaking existing code\n",
        "-Keep things clean, elegant, and maintainable\n",
        "\n",
        "15.  What is an abstract class in Python?\n",
        "- In Python, an abstract class is a blueprint for other classes that cannot be instantiated directly and contains one or more abstract methods (methods without implementation) that must be implemented by its subclasses.\n",
        "\n",
        "16.  What are the advantages of OOP?\n",
        "- Enables code reusability.\n",
        "- Increases productivity in software development.\n",
        "- Makes troubleshooting simpler.\n",
        "- Reinforces security.\n",
        "- Simplifies code maintenance.\n",
        "- Prevents the repetition of data.\n",
        "- Results in flexible code.\n",
        "- Addresses issues early on\n",
        "\n",
        "17. What is the difference between a class variable and an instance variable?\n",
        "- A class variable is a variable that is shared across all instances of a class. It is defined directly inside the class but outside any methods. Because it belongs to the class itself, all objects of the class can access and share the same value. Class variables are typically used to store data that should be consistent for every instance, such as constants or counters. For example, if you want to keep track of how many objects of a class have been created, a class variable is ideal for that purpose.\n",
        "-An instance variable is a variable that is unique to each object or instance of a class. It is usually defined inside the constructor method (__init__) using the self keyword. Each object gets its own separate copy of instance variables, which means changes to one object's data do not affect others. Instance variables are used to store data that is specific to a particular object, such as a person's name, age, or address in a Person class.\n",
        "\n",
        "18. What is multiple inheritance in Python?\n",
        "- In Python, multiple inheritance allows a class to inherit attributes and methods from more than one parent class, enabling it to combine functionalities from multiple sources.\n",
        "\n",
        "19. Explain the purpose of ‘’__str__’ and ‘__repr__’ ‘ methods in Python?\n",
        "- The __str__ method in Python is used to define a human-readable string representation of an object. It is called when you use the print() function or convert the object to a string using str(). This method is meant to return a clean, user-friendly description of the object, making it useful for displaying information to the end user.\n",
        "- The __repr__ method is intended for developers and is used to return an official string representation of the object that is ideally unambiguous and can be used to recreate the object. It is called when you use the repr() function or when inspecting objects in the Python shell or debugger.\n",
        "\n",
        "20. H What is the significance of the ‘super()’ function in Python?\n",
        "- In Python, the super() function is a built-in function used within a subclass to call methods of its parent (or super) class, enabling code reuse and facilitating inheritance. It returns a proxy object that allows you to access methods and attributes of the parent class without explicitly naming it.\n",
        "\n",
        "21. MH What is the significance of the __del__ method in Python?\n",
        "- In Python, the __del__() method, also known as a destructor or finalizer, is called when an object is about to be garbage collected, allowing for cleanup of resources before the object is destroyed.\n",
        "\n",
        "22. What is the difference between @staticmethod and @classmethod in Python?\n",
        "- A @staticmethod in Python is a method defined within a class that does not take self or cls as its first parameter. This means it doesn't access or modify the instance (self) or the class (cls). It behaves like a regular function but is grouped under the class for organizational purposes. Static methods are typically used for utility or helper functions that are logically related to the class but don't need access to class or instance attributes. They can be called using either the class name or an instance.\n",
        "\n",
        "- A @classmethod, on the other hand, takes cls as its first argument, which refers to the class itself rather than an instance of the class. This allows the method to access or modify class-level attributes and create instances of the class. Class methods are useful for operations that affect the class as a whole, such as tracking how many instances have been created or providing alternative constructors. Like static methods, they can also be called using the class name or an instance.\n",
        "\n",
        "23. How does polymorphism work in Python with inheritance?\n",
        "- Polymorphism in Python allows objects of different classes to be treated as if they were of the same type, particularly when they share a common interface or inheritance hierarchy. With inheritance, polymorphism works by allowing a child class to override methods from a parent class, enabling different behaviors depending on the object calling the method — even when using the same method name.\n",
        "\n",
        "24. What is method chaining in Python OOP?\n",
        "- Method chaining in Python OOP refers to the practice of calling multiple methods on the same object in a single line, one after the other. It works by having each method return self, allowing the next method to be called directly on the same object.\n",
        "\n",
        "25. What is the purpose of the __call__ method in Python?\n",
        "- The __call__ method in Python allows an instance of a class to be called like a function. In other words, if a class defines the __call__(self, ...) method, you can \"call\" an object of that class using parentheses (), just like you would call a regular function.\n",
        "\n"
      ],
      "metadata": {
        "id": "hXnnqYWAkAcs"
      }
    },
    {
      "cell_type": "markdown",
      "source": [
        "# Python OOPs Practical Questions:\n"
      ],
      "metadata": {
        "id": "f78PflpZaoBb"
      }
    },
    {
      "cell_type": "code",
      "source": [
        "# 1. . Create a parent class Animal with a method speak() that prints a generic message. Create a child class Dog that overrides the speak() method to print \"Bark!\".\n",
        "# Parent class\n",
        "class Animal:\n",
        "    def speak(self):\n",
        "        print(\"The animal makes a sound.\")\n",
        "\n",
        "# Child class\n",
        "class Dog(Animal):\n",
        "    def speak(self):\n",
        "        print(\"Bark!\")\n",
        "\n",
        "generic_animal = Animal()\n",
        "generic_animal.speak()\n",
        "\n",
        "dog = Dog()\n",
        "dog.speak()\n"
      ],
      "metadata": {
        "colab": {
          "base_uri": "https://localhost:8080/"
        },
        "id": "FNV0M0weavEO",
        "outputId": "7c8f5fd6-d0a8-4f8a-dd88-24c3d5372c39"
      },
      "execution_count": 6,
      "outputs": [
        {
          "output_type": "stream",
          "name": "stdout",
          "text": [
            "The animal makes a sound.\n",
            "Bark!\n"
          ]
        }
      ]
    },
    {
      "cell_type": "code",
      "source": [
        "# Write a program to create an abstract class Shape with a method area(). Derive classes Circle and Rectangle from it and implement the area() method in both.\n",
        "from abc import ABC, abstractmethod\n",
        "import math\n",
        "\n",
        "# Abstract base class\n",
        "class Shape(ABC):\n",
        "    @abstractmethod\n",
        "    def area(self):\n",
        "        pass\n",
        "\n",
        "# Derived class: Circle\n",
        "class Circle(Shape):\n",
        "    def __init__(self, radius):\n",
        "        self.radius = radius\n",
        "\n",
        "    def area(self):\n",
        "        return math.pi * self.radius ** 2\n",
        "\n",
        "# Derived class: Rectangle\n",
        "class Rectangle(Shape):\n",
        "    def __init__(self, width, height):\n",
        "        self.width = width\n",
        "        self.height = height\n",
        "\n",
        "    def area(self):\n",
        "        return self.width * self.height\n",
        "\n",
        "# Example usage\n",
        "circle = Circle(81)\n",
        "print(f\"Circle area: {circle.area():.2f}\")\n",
        "\n",
        "rectangle = Rectangle(5, 6)\n",
        "print(f\"Rectangle area: {rectangle.area()}\")\n"
      ],
      "metadata": {
        "colab": {
          "base_uri": "https://localhost:8080/"
        },
        "id": "5OvvddVfzSVp",
        "outputId": "d2cb426e-193b-451f-fca0-d0413db66c95"
      },
      "execution_count": 12,
      "outputs": [
        {
          "output_type": "stream",
          "name": "stdout",
          "text": [
            "Circle area: 20611.99\n",
            "Rectangle area: 30\n"
          ]
        }
      ]
    },
    {
      "cell_type": "code",
      "source": [
        "# 3. Implement a multi-level inheritance scenario where a class Vehicle has an attribute type. Derive a class Car and further derive a class ElectricCar that adds a battery attribute.\n",
        "# Base class\n",
        "class Vehicle:\n",
        "    def __init__(self, vehicle_type):\n",
        "        self.type = vehicle_type\n",
        "\n",
        "    def display_info(self):\n",
        "        print(f\"Vehicle Type: {self.type}\")\n",
        "\n",
        "# Derived class\n",
        "class Car(Vehicle):\n",
        "    def __init__(self, vehicle_type, brand):\n",
        "        super().__init__(vehicle_type)\n",
        "        self.brand = brand\n",
        "\n",
        "    def display_info(self):\n",
        "        super().display_info()\n",
        "        print(f\"Car Brand: {self.brand}\")\n",
        "\n",
        "# Further derived class\n",
        "class ElectricCar(Car):\n",
        "    def __init__(self, vehicle_type, brand, battery_capacity):\n",
        "        super().__init__(vehicle_type, brand)\n",
        "        self.battery = battery_capacity\n",
        "\n",
        "    def display_info(self):\n",
        "        super().display_info()\n",
        "        print(f\"Battery Capacity: {self.battery} kWh\")\n",
        "\n",
        "# Example usage\n",
        "nissan_leaf = ElectricCar(\"Electric\", \"Nissan\", 40)\n",
        "nissan_leaf.display_info()\n"
      ],
      "metadata": {
        "colab": {
          "base_uri": "https://localhost:8080/"
        },
        "id": "AhrrH6zM0Z6B",
        "outputId": "9deb986e-e7ef-40ec-980e-07f931f4e16a"
      },
      "execution_count": 13,
      "outputs": [
        {
          "output_type": "stream",
          "name": "stdout",
          "text": [
            "Vehicle Type: Electric\n",
            "Car Brand: Nissan\n",
            "Battery Capacity: 40 kWh\n"
          ]
        }
      ]
    },
    {
      "cell_type": "code",
      "source": [
        "# 4.  Demonstrate polymorphism by creating a base class Bird with a method fly(). Create two derived classes Sparrow and Penguin that override the fly() method.\n",
        "# Base class\n",
        "class Bird:\n",
        "    def fly(self):\n",
        "        print(\"This bird can fly.\")\n",
        "\n",
        "# Derived class\n",
        "class Sparrow(Bird):\n",
        "    def fly(self):\n",
        "        print(\"Sparrow flies high in the sky.\")\n",
        "\n",
        "# Another derived class\n",
        "class Penguin(Bird):\n",
        "    def fly(self):\n",
        "        print(\"Penguins can't fly, they waddle and swim instead.\")\n",
        "\n",
        "# Polymorphism demonstration\n",
        "def show_flying_ability(bird):\n",
        "    bird.fly()\n",
        "\n",
        "# Example usage\n",
        "bird1 = Sparrow()\n",
        "bird2 = Penguin()\n",
        "\n",
        "show_flying_ability(bird1)\n",
        "show_flying_ability(bird2)\n",
        "\n"
      ],
      "metadata": {
        "colab": {
          "base_uri": "https://localhost:8080/"
        },
        "id": "wLIqgXNh08-3",
        "outputId": "9c4eecb0-99fd-40b8-a70e-459f1f547f36"
      },
      "execution_count": 14,
      "outputs": [
        {
          "output_type": "stream",
          "name": "stdout",
          "text": [
            "Sparrow flies high in the sky.\n",
            "Penguins can't fly, they waddle and swim instead.\n"
          ]
        }
      ]
    },
    {
      "cell_type": "code",
      "source": [
        "# 5. Write a program to demonstrate encapsulation by creating a class BankAccount with private attributes balance and methods to deposit, withdraw, and check balance.\n",
        "class BankAccount:\n",
        "    def __init__(self, initial_balance=0):\n",
        "        self.__balance = initial_balance  # Private attribute\n",
        "\n",
        "    # Method to deposit money\n",
        "    def deposit(self, amount):\n",
        "        if amount > 0:\n",
        "            self.__balance += amount\n",
        "            print(f\"Deposited: ₹{amount}\")\n",
        "        else:\n",
        "            print(\"Deposit amount must be positive.\")\n",
        "\n",
        "    # Method to withdraw money\n",
        "    def withdraw(self, amount):\n",
        "        if 0 < amount <= self.__balance:\n",
        "            self.__balance -= amount\n",
        "            print(f\"Withdrawn: ₹{amount}\")\n",
        "        else:\n",
        "            print(\"Insufficient balance or invalid amount.\")\n",
        "\n",
        "    # Method to check balance\n",
        "    def check_balance(self):\n",
        "        print(f\"Current Balance: ₹{self.__balance}\")\n",
        "\n",
        "# Example usage\n",
        "account = BankAccount(2000)\n",
        "\n",
        "account.deposit(700)\n",
        "account.withdraw(500)\n",
        "account.check_balance()\n"
      ],
      "metadata": {
        "colab": {
          "base_uri": "https://localhost:8080/"
        },
        "id": "dcIYG99C1Q5T",
        "outputId": "a0ad0247-d249-4496-98a4-73497158f38c"
      },
      "execution_count": 16,
      "outputs": [
        {
          "output_type": "stream",
          "name": "stdout",
          "text": [
            "Deposited: ₹700\n",
            "Withdrawn: ₹500\n",
            "Current Balance: ₹2200\n"
          ]
        }
      ]
    },
    {
      "cell_type": "code",
      "source": [
        "# 6. Demonstrate runtime polymorphism using a method play() in a base class Instrument. Derive classes Guitar and Piano that implement their own version of play().\n",
        "# Base class\n",
        "class Instrument:\n",
        "    def play(self):\n",
        "        print(\"Playing an instrument...\")\n",
        "\n",
        "# Derived class\n",
        "class Guitar(Instrument):\n",
        "    def play(self):\n",
        "        print(\"Strumming the guitar \")\n",
        "\n",
        "# Another derived class\n",
        "class Piano(Instrument):\n",
        "    def play(self):\n",
        "        print(\"Playing the piano \")\n",
        "\n",
        "# Function demonstrating runtime polymorphism\n",
        "def start_performance(instrument):\n",
        "    instrument.play()\n",
        "\n",
        "# Example usage\n",
        "instrument1 = Guitar()\n",
        "instrument2 = Piano()\n",
        "\n",
        "start_performance(instrument1)\n",
        "start_performance(instrument2)\n"
      ],
      "metadata": {
        "colab": {
          "base_uri": "https://localhost:8080/"
        },
        "id": "UYxYPjFm2E72",
        "outputId": "14736110-f63f-4362-d3b0-c688185a0265"
      },
      "execution_count": 17,
      "outputs": [
        {
          "output_type": "stream",
          "name": "stdout",
          "text": [
            "Strumming the guitar \n",
            "Playing the piano \n"
          ]
        }
      ]
    },
    {
      "cell_type": "code",
      "source": [
        "# 7. Create a class MathOperations with a class method add_numbers() to add two numbers and a static method subtract_numbers() to subtract two numbers.\n",
        "class MathOperations:\n",
        "\n",
        "    @classmethod\n",
        "    def add_numbers(cls, a, b):\n",
        "        return a + b\n",
        "\n",
        "    @staticmethod\n",
        "    def subtract_numbers(a, b):\n",
        "        return a - b\n",
        "\n",
        "# Example usage\n",
        "result_add = MathOperations.add_numbers(170, 5)\n",
        "result_subtract = MathOperations.subtract_numbers(150, 5)\n",
        "\n",
        "print(f\"Addition Result: {result_add}\")\n",
        "print(f\"Subtraction Result: {result_subtract}\")\n"
      ],
      "metadata": {
        "colab": {
          "base_uri": "https://localhost:8080/"
        },
        "id": "wupMECMN2pqh",
        "outputId": "cc606c13-e080-4259-96fa-088e2333481e"
      },
      "execution_count": 20,
      "outputs": [
        {
          "output_type": "stream",
          "name": "stdout",
          "text": [
            "Addition Result: 175\n",
            "Subtraction Result: 145\n"
          ]
        }
      ]
    },
    {
      "cell_type": "code",
      "source": [
        "# 8. Implement a class Person with a class method to count the total number of persons created.\n",
        "class Person:\n",
        "    total_persons = 0  # Class variable to keep count\n",
        "\n",
        "    def __init__(self, name, age):\n",
        "        self.name = name\n",
        "        self.age = age\n",
        "        Person.total_persons += 1  # Increment count when a new Person is created\n",
        "\n",
        "    @classmethod\n",
        "    def count_persons(cls):\n",
        "        \"\"\"Class method to return the total number of Person instances.\"\"\"\n",
        "        return cls.total_persons\n",
        "\n",
        "# Creating Person objects\n",
        "p1 = Person(\"Rahul\", 28)\n",
        "p2 = Person(\"Sneha\", 24)\n",
        "p3 = Person(\"Arjun\", 30)\n",
        "\n",
        "print(\"Total number of persons created:\", Person.count_persons())\n"
      ],
      "metadata": {
        "colab": {
          "base_uri": "https://localhost:8080/"
        },
        "id": "KhC7hZ0y3utJ",
        "outputId": "946c84a2-d56d-4421-ff77-58dda2d7cc45"
      },
      "execution_count": 26,
      "outputs": [
        {
          "output_type": "stream",
          "name": "stdout",
          "text": [
            "Total number of persons created: 3\n"
          ]
        }
      ]
    },
    {
      "cell_type": "code",
      "source": [
        "# 9. Write a class Fraction with attributes numerator and denominator. Override the str method to display the fraction as \"numerator/denominator\".\n",
        "class Fraction:\n",
        "    def __init__(self, numerator, denominator):\n",
        "        if denominator == 0:\n",
        "            raise ValueError(\"Denominator cannot be zero.\")\n",
        "        self.numerator = numerator\n",
        "        self.denominator = denominator\n",
        "\n",
        "    def __str__(self):\n",
        "        return f\"{self.numerator}/{self.denominator}\"\n",
        "\n",
        "f1 = Fraction(23, 44)\n",
        "f2 = Fraction(15, 18)\n",
        "\n",
        "print(f\"Fraction 1: {f1}\")\n",
        "print(f\"Fraction 2: {f2}\")\n"
      ],
      "metadata": {
        "colab": {
          "base_uri": "https://localhost:8080/"
        },
        "id": "8VeJox764-ya",
        "outputId": "dc1e7e4e-85bc-4ed2-8ce4-be2cad060b6f"
      },
      "execution_count": 27,
      "outputs": [
        {
          "output_type": "stream",
          "name": "stdout",
          "text": [
            "Fraction 1: 23/44\n",
            "Fraction 2: 15/18\n"
          ]
        }
      ]
    },
    {
      "cell_type": "code",
      "source": [
        "# 10. Demonstrate operator overloading by creating a class Vector and overriding the add method to add two vectors.\n",
        "\n",
        "class Vector:\n",
        "    def __init__(self, x, y):\n",
        "        self.x = x\n",
        "        self.y = y\n",
        "\n",
        "    def __add__(self, other):\n",
        "        # Overloading the + operator\n",
        "        return Vector(self.x + other.x, self.y + other.y)\n",
        "\n",
        "    def __str__(self):\n",
        "        # For user-friendly display\n",
        "        return f\"({self.x}, {self.y})\"\n",
        "\n",
        "# Example usage\n",
        "v1 = Vector(2, 3)\n",
        "v2 = Vector(4, 5)\n",
        "\n",
        "v3 = v1 + v2\n",
        "\n",
        "print(f\"Vector 1: {v1}\")\n",
        "print(f\"Vector 2: {v2}\")\n",
        "print(f\"Sum of vectors: {v3}\")\n",
        "\n"
      ],
      "metadata": {
        "colab": {
          "base_uri": "https://localhost:8080/"
        },
        "id": "t5kRxesf5thA",
        "outputId": "b9e00ba6-04f5-491c-dac3-eec2ce39adfd"
      },
      "execution_count": 28,
      "outputs": [
        {
          "output_type": "stream",
          "name": "stdout",
          "text": [
            "Vector 1: (2, 3)\n",
            "Vector 2: (4, 5)\n",
            "Sum of vectors: (6, 8)\n"
          ]
        }
      ]
    },
    {
      "cell_type": "code",
      "source": [
        "# 11. Create a class Person with attributes name and age. Add a method greet() that prints \"Hello, my name is {name} and I am {age} years old.\"\n",
        "class Person:\n",
        "    def __init__(self, name, age):\n",
        "        self.name = name\n",
        "        self.age = age\n",
        "\n",
        "    def greet(self):\n",
        "        print(f\"Hello, my name is {self.name} and I am {self.age} years old.\")\n",
        "\n",
        "# Example usage\n",
        "p1 = Person(\"Kamalaksh\", 31)\n",
        "p2 = Person(\"Meera\", 27)\n",
        "\n",
        "p1.greet()\n",
        "p2.greet()\n"
      ],
      "metadata": {
        "colab": {
          "base_uri": "https://localhost:8080/"
        },
        "id": "PecUIvz46LSF",
        "outputId": "030b5997-9bbb-4743-b277-b078c7a08da7"
      },
      "execution_count": 31,
      "outputs": [
        {
          "output_type": "stream",
          "name": "stdout",
          "text": [
            "Hello, my name is Kamalaksh and I am 31 years old.\n",
            "Hello, my name is Meera and I am 27 years old.\n"
          ]
        }
      ]
    },
    {
      "cell_type": "code",
      "source": [
        "# 12.  Implement a class Student with attributes name and grades. Create a method average_grade() to compute the average of the grades.\n",
        "class Student:\n",
        "    def __init__(self, name, grades):\n",
        "        self.name = name\n",
        "        self.grades = grades  # Expecting a list of numbers\n",
        "\n",
        "    def average_grade(self):\n",
        "        if not self.grades:\n",
        "            return 0\n",
        "        return sum(self.grades) / len(self.grades)\n",
        "\n",
        "# Example usage\n",
        "student1 = Student(\"Ananya\", [85, 90, 78, 92])\n",
        "student2 = Student(\"Devansh\", [90, 85, 80])\n",
        "\n",
        "print(f\"{student1.name}'s average grade: {student1.average_grade():.2f}\")\n",
        "print(f\"{student2.name}'s average grade: {student2.average_grade():.2f}\")\n"
      ],
      "metadata": {
        "colab": {
          "base_uri": "https://localhost:8080/"
        },
        "id": "U5ltEeVV6mu_",
        "outputId": "a848c9ca-c929-4f78-f13e-331de989b793"
      },
      "execution_count": 34,
      "outputs": [
        {
          "output_type": "stream",
          "name": "stdout",
          "text": [
            "Ananya's average grade: 86.25\n",
            "Devansh's average grade: 85.00\n"
          ]
        }
      ]
    },
    {
      "cell_type": "code",
      "source": [
        "# 13. Create a class Rectangle with methods set_dimensions() to set the dimensions and area() to calculate the area.\n",
        "class Rectangle:\n",
        "    def __init__(self):\n",
        "        self.length = 0\n",
        "        self.width = 0\n",
        "\n",
        "    def set_dimensions(self, length, width):\n",
        "        self.length = length\n",
        "        self.width = width\n",
        "\n",
        "    def area(self):\n",
        "        return self.length * self.width\n",
        "\n",
        "# Example usage\n",
        "rect = Rectangle()\n",
        "rect.set_dimensions(5, 3)\n",
        "\n",
        "print(f\"Length: {rect.length}\")\n",
        "print(f\"Width: {rect.width}\")\n",
        "print(f\"Area of rectangle: {rect.area()}\")\n"
      ],
      "metadata": {
        "colab": {
          "base_uri": "https://localhost:8080/"
        },
        "id": "q4Qrl3td7jWz",
        "outputId": "f744bfd8-5014-487f-d255-eaea6f5620cd"
      },
      "execution_count": 35,
      "outputs": [
        {
          "output_type": "stream",
          "name": "stdout",
          "text": [
            "Length: 5\n",
            "Width: 3\n",
            "Area of rectangle: 15\n"
          ]
        }
      ]
    },
    {
      "cell_type": "code",
      "source": [
        "# 14.  Create a class Employee with a method calculate_salary() that computes the salary based on hours worked and hourly rate. Create a derived class Manager that adds a bonus to the salary.\n",
        "# Base class\n",
        "class Employee:\n",
        "    def __init__(self, name, hours_worked, hourly_rate):\n",
        "        self.name = name\n",
        "        self.hours_worked = hours_worked\n",
        "        self.hourly_rate = hourly_rate\n",
        "\n",
        "    def calculate_salary(self):\n",
        "        return self.hours_worked * self.hourly_rate\n",
        "\n",
        "# Derived class\n",
        "class Manager(Employee):\n",
        "    def __init__(self, name, hours_worked, hourly_rate, bonus):\n",
        "        super().__init__(name, hours_worked, hourly_rate)\n",
        "        self.bonus = bonus\n",
        "\n",
        "    def calculate_salary(self):\n",
        "        base_salary = super().calculate_salary()\n",
        "        return base_salary + self.bonus\n",
        "\n",
        "# Example usage\n",
        "emp = Employee(\"Rohan\", 40, 200)\n",
        "mgr = Manager(\"Priya\", 45, 250, 5000)\n",
        "\n",
        "print(f\"{emp.name}'s Salary: ₹{emp.calculate_salary()}\")\n",
        "print(f\"{mgr.name}'s Salary (with bonus): ₹{mgr.calculate_salary()}\")\n"
      ],
      "metadata": {
        "colab": {
          "base_uri": "https://localhost:8080/"
        },
        "id": "hD7j5yOf8HPJ",
        "outputId": "0b516d38-9c27-4eff-caae-a8e6ab94baa0"
      },
      "execution_count": 36,
      "outputs": [
        {
          "output_type": "stream",
          "name": "stdout",
          "text": [
            "Rohan's Salary: ₹8000\n",
            "Priya's Salary (with bonus): ₹16250\n"
          ]
        }
      ]
    },
    {
      "cell_type": "code",
      "source": [
        "# 15. Create a class Product with attributes name, price, and quantity. Implement a method total_price() that calculates the total price of the product.\n",
        "class Product:\n",
        "    def __init__(self, name, price, quantity):\n",
        "        self.name = name\n",
        "        self.price = price\n",
        "        self.quantity = quantity\n",
        "\n",
        "    def total_price(self):\n",
        "        return self.price * self.quantity\n",
        "\n",
        "# Example usage\n",
        "product1 = Product(\"Laptop\", 55000, 2)\n",
        "product2 = Product(\"Headphones\", 1500, 3)\n",
        "\n",
        "print(f\"{product1.name} - Total Price: ₹{product1.total_price()}\")\n",
        "print(f\"{product2.name} - Total Price: ₹{product2.total_price()}\")\n"
      ],
      "metadata": {
        "colab": {
          "base_uri": "https://localhost:8080/"
        },
        "id": "b1l29mbb8gEI",
        "outputId": "f58ce7dd-def2-4e6c-9b7d-ddfa52be6f5c"
      },
      "execution_count": 37,
      "outputs": [
        {
          "output_type": "stream",
          "name": "stdout",
          "text": [
            "Laptop - Total Price: ₹110000\n",
            "Headphones - Total Price: ₹4500\n"
          ]
        }
      ]
    },
    {
      "cell_type": "code",
      "source": [
        "# 16.  Create a class Animal with an abstract method sound(). Create two derived classes Cow and Sheep that implement the sound() method.\n",
        "from abc import ABC, abstractmethod\n",
        "\n",
        "# Abstract base class\n",
        "class Animal(ABC):\n",
        "    @abstractmethod\n",
        "    def sound(self):\n",
        "        pass\n",
        "\n",
        "# Derived class Cow\n",
        "class Cow(Animal):\n",
        "    def sound(self):\n",
        "        return \"Moo\"\n",
        "\n",
        "# Derived class Sheep\n",
        "class Sheep(Animal):\n",
        "    def sound(self):\n",
        "        return \"Baa\"\n",
        "\n",
        "# Example usage\n",
        "cow = Cow()\n",
        "sheep = Sheep()\n",
        "\n",
        "print(f\"Cow says: {cow.sound()}\")\n",
        "print(f\"Sheep says: {sheep.sound()}\")\n"
      ],
      "metadata": {
        "colab": {
          "base_uri": "https://localhost:8080/"
        },
        "id": "oQoDu5qu81Lo",
        "outputId": "7d236818-7bd2-4b4e-9c1c-7d24d3bf00c1"
      },
      "execution_count": 38,
      "outputs": [
        {
          "output_type": "stream",
          "name": "stdout",
          "text": [
            "Cow says: Moo\n",
            "Sheep says: Baa\n"
          ]
        }
      ]
    },
    {
      "cell_type": "code",
      "source": [
        "# 17. Create a class Book with attributes title, author, and year_published. Add a method get_book_info() that returns a formatted string with the book's details.\n",
        "class Book:\n",
        "    def __init__(self, title, author, year_published):\n",
        "        self.title = title\n",
        "        self.author = author\n",
        "        self.year_published = year_published\n",
        "\n",
        "    def get_book_info(self):\n",
        "        return f\"'{self.title}' by {self.author}, published in {self.year_published}\"\n",
        "\n",
        "# Example usage with Indian books\n",
        "book1 = Book(\"Godaan\", \"Munshi Premchand\", 1936)\n",
        "book2 = Book(\"Train to Pakistan\", \"Khushwant Singh\", 1956)\n",
        "book3 = Book(\"The White Tiger\", \"Aravind Adiga\", 2008)\n",
        "\n",
        "print(book1.get_book_info())\n",
        "print(book2.get_book_info())\n",
        "print(book3.get_book_info())\n"
      ],
      "metadata": {
        "colab": {
          "base_uri": "https://localhost:8080/"
        },
        "id": "yIBXG_5T9UsB",
        "outputId": "c079442b-b571-4184-a008-ec6ec5cf1bd6"
      },
      "execution_count": 39,
      "outputs": [
        {
          "output_type": "stream",
          "name": "stdout",
          "text": [
            "'Godaan' by Munshi Premchand, published in 1936\n",
            "'Train to Pakistan' by Khushwant Singh, published in 1956\n",
            "'The White Tiger' by Aravind Adiga, published in 2008\n"
          ]
        }
      ]
    },
    {
      "cell_type": "code",
      "source": [
        "# 18.  Create a class House with attributes address and price. Create a derived class Mansion that adds an attribute number_of_rooms.\n",
        "# Base class\n",
        "class House:\n",
        "    def __init__(self, address, price):\n",
        "        self.address = address\n",
        "        self.price = price\n",
        "\n",
        "    def get_info(self):\n",
        "        return f\"Address: {self.address}, Price: ₹{self.price}\"\n",
        "\n",
        "# Derived class\n",
        "class Mansion(House):\n",
        "    def __init__(self, address, price, number_of_rooms):\n",
        "        super().__init__(address, price)\n",
        "        self.number_of_rooms = number_of_rooms\n",
        "\n",
        "    def get_info(self):\n",
        "        return f\"Address: {self.address}, Price: ₹{self.price}, Rooms: {self.number_of_rooms}\"\n",
        "\n",
        "# Example usage\n",
        "m1 = Mansion(\"Bandra, Mumbai\", 150000, 12)\n",
        "m2 = Mansion(\"Jubilee Hills, Hyderabad\", 200000, 15)\n",
        "\n",
        "print(m1.get_info())\n",
        "print(m2.get_info())\n"
      ],
      "metadata": {
        "colab": {
          "base_uri": "https://localhost:8080/"
        },
        "id": "nj476Ate93PP",
        "outputId": "fa0164a2-43fe-4840-ec10-9ad33c4bb7f3"
      },
      "execution_count": 40,
      "outputs": [
        {
          "output_type": "stream",
          "name": "stdout",
          "text": [
            "Address: Bandra, Mumbai, Price: ₹150000, Rooms: 12\n",
            "Address: Jubilee Hills, Hyderabad, Price: ₹200000, Rooms: 15\n"
          ]
        }
      ]
    }
  ]
}