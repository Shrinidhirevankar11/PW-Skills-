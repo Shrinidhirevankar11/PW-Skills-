{
  "cells": [
    {
      "cell_type": "markdown",
      "metadata": {
        "id": "_nD88R_6YWrs"
      },
      "source": [
        "#Python Basic Questions and Answers:\n",
        "\n",
        "1.What is Python and why is it popular?\n",
        "- Python is a popular, versatile, and easy-to-learn programming language widely used for web development, data science, machine learning, and automation, due to its simple syntax, extensive libraries, and a large, supportive community.\n",
        "\n",
        "2.What is an interpreter in Python?\n",
        "- In Python, an interpreter is a program that reads and executes Python code line by line, translating it into machine-readable instructions.\n",
        "\n",
        "3.What are pre-defined keywords in Python\n",
        "- Keywords are reserved words in Python that have special meanings and cannot be used as identifiers (variable names, function names, etc.).\n",
        "Examples of keywords include if, else, while, for, def, class, import, try, except, return, True, False, None, etc.\n",
        "Keywords are case-sensitive and cannot be redefined or overridden within a Python program.\n",
        "\n",
        "4.Can keywords be used as variable names\n",
        "- No, you cannot use Python keywords as variable names because they are reserved words with specific meanings in the language's syntax.\n",
        "\n",
        "5.What is mutability in Python\n",
        "- Mutability refers to an object's ability to be changed or modified after it's created, with mutable objects allowing in-place modifications.Mutable objects, such as lists and dictionaries, can be modified after creation.\n",
        "\n",
        "6. Why are lists mutable, but tuples are immutable\n",
        "- Lists are designed for dynamic operations like inserting, deleting, and modifying elements.They use an array-like structure in memory that allows them to be resized.Since lists can change, Python allocates extra memory space to accommodate modifications.\n",
        "- Tuples are stored in a fixed-size memory block, making them faster and more memory efficient than lists.Their immutability ensures safety in cases where data should not be changed accidentally.Because they cannot be modified, Python can optimize them internally (e.g., caching and using less overhead).\n",
        "\n",
        "7.What is the difference between “==” and “is” operators in Python\n",
        "- In Python, == checks for value equality (if two objects have the same value), while is checks for object identity (if two variables point to the same object in memory).\n",
        "- == (Equality Operator):\n",
        "Compares the values of two objects.\n",
        "Returns True if the values are the same, False otherwise.\n",
        "Example: 1 == 1 is True, and 1 == 2 is False.\n",
        "Example: [1, 2] == [1, 2] is True (because they have the same values).\n",
        "- is (Identity Operator):\n",
        "Checks if two variables refer to the same object in memory.\n",
        "Returns True if the variables point to the same object, False otherwise.\n",
        "Example: a = [1, 2]; b = a; a is b is True (because a and b point to the same list object).\n",
        "Example: a = [1, 2]; b = [1, 2]; a is b is False (because they are different objects with the same values).\n",
        "\n",
        "8.What are logical operators in Python\n",
        "- Logical operators in Python combine two or more operands and conduct logical comparisons on them. There are three types, i.e., AND, OR, and NOT. They return a boolean value, i.e., True or False.\n",
        "\n",
        "9.What is type casting in Python\n",
        "- Type casting, also referred to as type conversion, is the process of changing one data type to another in Python.\n",
        "Python provides built-in functions for type casting, such as int(), float(), str(), list(), tuple(), dict(), etc.\n",
        "Type casting is often necessary for performing arithmetic operations, data manipulation, and input/output operations in Python programs.\n",
        "\n",
        "10.What is the difference between implicit and explicit type casting\n",
        "- Implicit Type Casting (Type Coercion):\n",
        "Occurs automatically by the compiler when a value of one data type is assigned to a variable of another data type, or when different data types are mixed in an expression.\n",
        "Generally safe and involves converting a \"smaller\" data type to a \"larger\" one (e.g., int to float).\n",
        "No special syntax is required; the compiler handles the conversion.\n",
        "Example: int a = 10; float b = a; (the integer value of a is implicitly converted to a float and assigned to b).\n",
        "- Explicit Type Casting (Type Casting):\n",
        "Involves the programmer explicitly converting a value from one data type to another using a casting operator or function.\n",
        "Used when converting a \"larger\" data type to a \"smaller\" one (e.g., float to int), which might result in data loss or precision issues.\n",
        "Requires the programmer to specify the desired type.\n",
        "Example: float c = 3.14; int d = (int)c; (the float value of c is explicitly converted to an integer and assigned to d).\n",
        "\n",
        "11.What is the purpose of conditional statements in Python\n",
        "- Conditionals in Python are used to execute code based on the evaluation of one or more conditions.\n",
        "Python supports conditional statements such as if, elif (else if), and else to control the flow of execution.\n",
        "Conditionals can be nested to handle multiple conditions and control different branches of execution based on the outcome of logical expressions.\n",
        "\n",
        "12.How does the elif statement work\n",
        "- The “elif” keyword in Python, stands for “else if”. It can be used in conditional statements to check for multiple conditions. For example, if the first condition is false, it moves on to the next “elif” statement to check if that condition is true.\n",
        "\n",
        "13.What is the difference between for and while loops\n",
        "- A for loop in Python is used when the number of iterations is known beforehand. It is primarily used to iterate over sequences like lists, tuples, strings, or ranges. The loop runs for a fixed number of times, making it useful for scenarios where we need to process each element in a collection. For example, if we want to print numbers from 1 to 5, we can use for i in range(1, 6): print(i), which ensures the loop runs exactly five times.\n",
        "\n",
        "- On the other hand, a while loop is used when the number of iterations is not known in advance and depends on a condition. The loop continues running as long as the given condition remains True. This is useful in cases where we don’t have a predefined range, such as user input validation or waiting for a specific event to occur. For example, if we want to keep asking a user for input until they enter a valid response, we can use a while loop.\n",
        "\n",
        "14.Describe a scenario where a while loop is more suitable than a for loop.\n",
        "- A while loop is best when the number of iterations is unknownmand depends on a condition.  \n",
        "\n",
        "Example: A login system where a user must enter the correct password. The loop runs until the correct password is entered.  \n",
        "\n",
        "```python\n",
        "while user_input != correct_password:\n",
        "    user_input = input(\"Enter password: \")\n",
        "```\n",
        "- A for loop wouldn’t work well because the number of attempts is unpredictable."
      ]
    },
    {
      "cell_type": "markdown",
      "metadata": {
        "id": "gM_be2HYsTon"
      },
      "source": [
        "# Practical Questions:"
      ]
    },
    {
      "cell_type": "code",
      "execution_count": null,
      "metadata": {
        "colab": {
          "base_uri": "https://localhost:8080/"
        },
        "id": "qVeRiLi9jSQW",
        "outputId": "839f1925-93e0-49c5-89d9-bf18127c3315"
      },
      "outputs": [
        {
          "output_type": "stream",
          "name": "stdout",
          "text": [
            "Hello, World\n"
          ]
        }
      ],
      "source": [
        "# Write a Python program to print \"Hello, World\".\n",
        "print(\"Hello, World\")\n"
      ]
    },
    {
      "cell_type": "code",
      "source": [
        "# Write a Python program that displays your name and age.\n",
        "name = \"Shrinidhi Revankar\"\n",
        "age = 20\n",
        "\n",
        "print(\"My name is\", name)\n",
        "print(\"I am\", age, \"years old\")\n"
      ],
      "metadata": {
        "colab": {
          "base_uri": "https://localhost:8080/"
        },
        "id": "BDRMf84LhDCo",
        "outputId": "0177cb7e-8ce1-4c7a-b746-6869ea9a1d85"
      },
      "execution_count": null,
      "outputs": [
        {
          "output_type": "stream",
          "name": "stdout",
          "text": [
            "My name is Shrinidhi Revankar\n",
            "I am 20 years old\n"
          ]
        }
      ]
    },
    {
      "cell_type": "code",
      "source": [
        "# Write code to print all the pre-defined keywords in Python using the keyword library.\n",
        "print(\"Python Keywords:\")\n",
        "print(keyword.kwlist)\n",
        "\n"
      ],
      "metadata": {
        "colab": {
          "base_uri": "https://localhost:8080/"
        },
        "id": "k_R0hU-biCew",
        "outputId": "6b02ed62-2938-4d64-a877-9c533fee3671"
      },
      "execution_count": null,
      "outputs": [
        {
          "output_type": "stream",
          "name": "stdout",
          "text": [
            "Python Keywords:\n",
            "['False', 'None', 'True', 'and', 'as', 'assert', 'async', 'await', 'break', 'class', 'continue', 'def', 'del', 'elif', 'else', 'except', 'finally', 'for', 'from', 'global', 'if', 'import', 'in', 'is', 'lambda', 'nonlocal', 'not', 'or', 'pass', 'raise', 'return', 'try', 'while', 'with', 'yield']\n"
          ]
        }
      ]
    },
    {
      "cell_type": "code",
      "source": [
        "# Write a program that checks if a given word is a Python keyword.\n",
        "import keyword\n",
        "\n",
        "word = input(\"Enter a word: \")\n",
        "\n",
        "if keyword.iskeyword(word):\n",
        "    print(f\"'{word}' is a Python keyword.\")\n",
        "else:\n",
        "    print(f\"'{word}' is not a Python keyword.\")"
      ],
      "metadata": {
        "colab": {
          "base_uri": "https://localhost:8080/"
        },
        "id": "bFl4ZXgVkHqt",
        "outputId": "8500c7ef-9f43-4d92-9512-0a70b1a410eb"
      },
      "execution_count": null,
      "outputs": [
        {
          "output_type": "stream",
          "name": "stdout",
          "text": [
            "Enter a word: f\n",
            "'f' is not a Python keyword.\n"
          ]
        }
      ]
    },
    {
      "cell_type": "code",
      "source": [
        "# Create a list and tuple in Python, and demonstrate how attempting to change an element works differently for each.\n",
        "my_list = [10, 18, 27]\n",
        "print(\"Original List:\", my_list)\n",
        "\n",
        "my_list[1] = 50\n",
        "print(\"Modified List:\", my_list)\n",
        "\n",
        "my_tuple = (10, 18, 27)\n",
        "print(\"\\nOriginal Tuple:\", my_tuple)\n",
        "\n",
        "try:\n",
        "    my_tuple[1] = 50\n",
        "except TypeError as e:\n",
        "    print(\"Error:\", e)\n"
      ],
      "metadata": {
        "colab": {
          "base_uri": "https://localhost:8080/"
        },
        "id": "tOid8fX-k1kP",
        "outputId": "b5b19432-6a3f-41fd-d647-1ecdedc0f9a1"
      },
      "execution_count": null,
      "outputs": [
        {
          "output_type": "stream",
          "name": "stdout",
          "text": [
            "Original List: [10, 18, 27]\n",
            "Modified List: [10, 50, 27]\n",
            "\n",
            "Original Tuple: (10, 18, 27)\n",
            "Error: 'tuple' object does not support item assignment\n"
          ]
        }
      ]
    },
    {
      "cell_type": "code",
      "source": [
        " # Write a function to demonstrate the behavior of mutable and immutable arguments.\n",
        "\n",
        "def modify_values(mutable_list, immutable_number):\n",
        "\n",
        "    mutable_list.append(100)\n",
        "    immutable_number += 10\n",
        "\n",
        "    print(\"Inside function:\")\n",
        "    print(\"Mutable list:\", mutable_list)\n",
        "    print(\"Immutable number:\", immutable_number)\n",
        "\n",
        "my_list = [1, 2, 3]\n",
        "my_number = 5\n",
        "\n",
        "print(\"Before function call:\")\n",
        "print(\"Mutable list:\", my_list)\n",
        "print(\"Immutable number:\", my_number)\n",
        "\n",
        "modify_values(my_list, my_number)\n",
        "\n",
        "print(\"\\nAfter function call:\")\n",
        "print(\"Mutable list:\", my_list)\n",
        "print(\"Immutable number:\", my_number)"
      ],
      "metadata": {
        "colab": {
          "base_uri": "https://localhost:8080/"
        },
        "id": "3VPXq-7slxGE",
        "outputId": "0689c928-31d2-4e80-9001-22e99487eeb4"
      },
      "execution_count": null,
      "outputs": [
        {
          "output_type": "stream",
          "name": "stdout",
          "text": [
            "Before function call:\n",
            "Mutable list: [1, 2, 3]\n",
            "Immutable number: 5\n",
            "Inside function:\n",
            "Mutable list: [1, 2, 3, 100]\n",
            "Immutable number: 15\n",
            "\n",
            "After function call:\n",
            "Mutable list: [1, 2, 3, 100]\n",
            "Immutable number: 5\n"
          ]
        }
      ]
    },
    {
      "cell_type": "code",
      "source": [
        "#  Write a program to demonstrate the use of logical operators.\n",
        "a = True\n",
        "b = False\n",
        "\n",
        "print(\"a and b:\", a and b)  # False (Both must be True)\n",
        "print(\"a or b:\", a or b)  # True (At least one must be True)\n",
        "print(\"not a:\", not a)  # False (Reverses the value)\n",
        "print(\"not b:\", not b)  # True (Reverses the value)\n"
      ],
      "metadata": {
        "colab": {
          "base_uri": "https://localhost:8080/"
        },
        "id": "CJ8_o7eGKn01",
        "outputId": "56119745-2448-41e5-d68d-63e8bdcf738f"
      },
      "execution_count": null,
      "outputs": [
        {
          "output_type": "stream",
          "name": "stdout",
          "text": [
            "a and b: False\n",
            "a or b: True\n",
            "not a: False\n",
            "not b: True\n"
          ]
        }
      ]
    },
    {
      "cell_type": "code",
      "source": [
        "# Write a Python program to convert user input from string to integer, float, and boolean types.\n",
        "# Take user input as a string\n",
        "user_input = input(\"Enter a value: \")\n",
        "\n",
        "# Convert to integer\n",
        "try:\n",
        "    int_value = int(user_input)\n",
        "    print(\"Integer:\", int_value)\n",
        "except ValueError:\n",
        "    print(\"Cannot convert to Integer.\")\n",
        "\n",
        "# Convert to float\n",
        "try:\n",
        "    float_value = float(user_input)\n",
        "    print(\"Float:\", float_value)\n",
        "except ValueError:\n",
        "    print(\"Cannot convert to Float.\")\n",
        "\n",
        "# Convert to boolean\n",
        "bool_value = bool(user_input)  # Any non-empty string is True\n",
        "print(\"Boolean:\", bool_value)\n"
      ],
      "metadata": {
        "colab": {
          "base_uri": "https://localhost:8080/"
        },
        "id": "8wgCtUyVK0C3",
        "outputId": "d73cc6cc-3974-4351-b9a3-e7a5ec39a2c6"
      },
      "execution_count": null,
      "outputs": [
        {
          "output_type": "stream",
          "name": "stdout",
          "text": [
            "Enter a value: 2\n",
            "Integer: 2\n",
            "Float: 2.0\n",
            "Boolean: True\n"
          ]
        }
      ]
    },
    {
      "cell_type": "code",
      "source": [
        "#  Write code to demonstrate type casting with list elements.\n",
        "str_list = [\"10\", \"20\", \"30\", \"40.5\", \"50.8\"]\n",
        "# Convert all elements to integers (only possible if they are whole numbers)\n",
        "try:\n",
        "    int_list = [int(x) for x in str_list]\n",
        "    print(\"Integer List:\", int_list)\n",
        "except ValueError:\n",
        "    print(\"Some elements cannot be converted to integers.\")\n",
        "\n",
        "# Convert all elements to float\n",
        "float_list = [float(x) for x in str_list]\n",
        "print(\"Float List:\", float_list)\n",
        "\n",
        "# Convert all elements to boolean\n",
        "bool_list = [bool(x) for x in str_list]\n",
        "print(\"Boolean List:\", bool_list)\n"
      ],
      "metadata": {
        "colab": {
          "base_uri": "https://localhost:8080/"
        },
        "id": "PROzMq5MLDoS",
        "outputId": "ea692e2a-36d8-48e1-c3f1-17bd68688d39"
      },
      "execution_count": null,
      "outputs": [
        {
          "output_type": "stream",
          "name": "stdout",
          "text": [
            "Some elements cannot be converted to integers.\n",
            "Float List: [10.0, 20.0, 30.0, 40.5, 50.8]\n",
            "Boolean List: [True, True, True, True, True]\n"
          ]
        }
      ]
    },
    {
      "cell_type": "code",
      "source": [
        "# Write a program that checks if a number is positive, negative, or zer0.\n",
        "# Take user input\n",
        "num = float(input(\"Enter a number: \"))\n",
        "\n",
        "# Check if the number is positive, negative, or zero\n",
        "if num > 0:\n",
        "    print(\"The number is Positive.\")\n",
        "elif num < 0:\n",
        "    print(\"The number is Negative.\")\n",
        "else:\n",
        "    print(\"The number is Zero.\")\n"
      ],
      "metadata": {
        "colab": {
          "base_uri": "https://localhost:8080/"
        },
        "id": "rX5kW0YMLSIZ",
        "outputId": "77ccfaf5-7785-4272-c163-617dbdee18be"
      },
      "execution_count": null,
      "outputs": [
        {
          "output_type": "stream",
          "name": "stdout",
          "text": [
            "Enter a number: 2\n",
            "The number is Positive.\n"
          ]
        }
      ]
    },
    {
      "cell_type": "code",
      "source": [
        "# Write a for loop to print numbers from 1 to 10.\n",
        "for num in range(1, 11):\n",
        "    print(num)\n"
      ],
      "metadata": {
        "colab": {
          "base_uri": "https://localhost:8080/"
        },
        "id": "j4Hl3r0hLjME",
        "outputId": "c43d39c1-ad93-48c1-88f0-1c992de896ac"
      },
      "execution_count": null,
      "outputs": [
        {
          "output_type": "stream",
          "name": "stdout",
          "text": [
            "1\n",
            "2\n",
            "3\n",
            "4\n",
            "5\n",
            "6\n",
            "7\n",
            "8\n",
            "9\n",
            "10\n"
          ]
        }
      ]
    },
    {
      "cell_type": "code",
      "source": [
        "# Write a Python program to find the sum of all even numbers between 1 and 50.\n",
        "# Initialize sum variable\n",
        "sum_even = 0\n",
        "\n",
        "# Loop through numbers from 1 to 50\n",
        "for num in range(2, 51, 2):  # Start from 2, increment by 2 (even numbers)\n",
        "    sum_even += num  # Add each even number to sum_even\n",
        "\n",
        "# Print the result\n",
        "print(\"Sum of all even numbers between 1 and 50 is:\", sum_even)\n"
      ],
      "metadata": {
        "colab": {
          "base_uri": "https://localhost:8080/"
        },
        "id": "NVtg_hSpLvw8",
        "outputId": "9505e2e0-bf96-4a8c-ec7e-46da4cecd7bc"
      },
      "execution_count": null,
      "outputs": [
        {
          "output_type": "stream",
          "name": "stdout",
          "text": [
            "Sum of all even numbers between 1 and 50 is: 650\n"
          ]
        }
      ]
    },
    {
      "cell_type": "code",
      "source": [
        "#  Write a program to reverse a string using a while loop.\n",
        "# Take user input\n",
        "text = input(\"Enter a string: \")\n",
        "\n",
        "# Initialize an empty string for the reversed result\n",
        "reversed_text = \"\"\n",
        "\n",
        "# Get the index of the last character\n",
        "i = len(text) - 1\n",
        "\n",
        "# Use a while loop to reverse the string\n",
        "while i >= 0:\n",
        "    reversed_text += text[i]  # Add each character in reverse order\n",
        "    i -= 1  # Move to the previous character\n",
        "\n",
        "# Print the reversed string\n",
        "print(\"Reversed String:\", reversed_text)\n"
      ],
      "metadata": {
        "colab": {
          "base_uri": "https://localhost:8080/"
        },
        "id": "ky6wgO91MElQ",
        "outputId": "faf0f4d6-c12b-4c4d-e6a1-4c98d8037b19"
      },
      "execution_count": null,
      "outputs": [
        {
          "output_type": "stream",
          "name": "stdout",
          "text": [
            "Enter a string: hi\n",
            "Reversed String: ih\n"
          ]
        }
      ]
    },
    {
      "cell_type": "code",
      "source": [
        "# Write a Python program to calculate the factorial of a number provided by the user using a while loop.\n",
        "# Take user input\n",
        "num = int(input(\"Enter a number: \"))\n",
        "\n",
        "# Initialize factorial result\n",
        "factorial = 1\n",
        "\n",
        "# Initialize a counter\n",
        "i = num\n",
        "\n",
        "# Using while loop to calculate factorial\n",
        "while i > 0:\n",
        "    factorial *= i  # Multiply the current number with factorial\n",
        "    i -= 1  # Decrease the counter\n",
        "\n",
        "# Print the result\n",
        "print(\"Factorial of\", num, \"is:\", factorial)\n"
      ],
      "metadata": {
        "colab": {
          "base_uri": "https://localhost:8080/"
        },
        "id": "3OmSCKdNMRcZ",
        "outputId": "a7f03163-7c67-4abe-c50d-bd412e7521af"
      },
      "execution_count": null,
      "outputs": [
        {
          "output_type": "stream",
          "name": "stdout",
          "text": [
            "Enter a number: 9\n",
            "Factorial of 9 is: 362880\n"
          ]
        }
      ]
    }
  ],
  "metadata": {
    "colab": {
      "provenance": [],
      "toc_visible": true
    },
    "kernelspec": {
      "display_name": "Python 3",
      "name": "python3"
    },
    "language_info": {
      "name": "python"
    }
  },
  "nbformat": 4,
  "nbformat_minor": 0
}