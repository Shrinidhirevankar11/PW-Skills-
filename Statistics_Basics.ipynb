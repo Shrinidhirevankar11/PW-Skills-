{
  "nbformat": 4,
  "nbformat_minor": 0,
  "metadata": {
    "colab": {
      "provenance": []
    },
    "kernelspec": {
      "name": "python3",
      "display_name": "Python 3"
    },
    "language_info": {
      "name": "python"
    }
  },
  "cells": [
    {
      "cell_type": "code",
      "source": [],
      "metadata": {
        "id": "9NbToTI5MJpP"
      },
      "execution_count": null,
      "outputs": []
    },
    {
      "cell_type": "markdown",
      "source": [
        "\n",
        "# Question and Answers:\n",
        "\n",
        "# 1. What is statistics, and why is it important?\n",
        "   - Statistics is the science of collecting, organizing, analyzing, interpreting, and presenting data. It helps in making informed decisions, understanding trends, and predicting future outcomes based on data.\n",
        "\n",
        "# 2. What are the two main types of statistics?\n",
        "\n",
        "* Descriptive Statistics\n",
        "* Inferential Statistics\n",
        "\n",
        "# 3. What are descriptive statistics?\n",
        "  - Descriptive statistics summarize and describe the main features of a dataset using measures like mean, median, mode, range, and standard deviation.\n",
        "\n",
        "# 4. What is inferential statistics?\n",
        "   Inferential statistics involve making predictions or inferences about a population based on a sample of data. It uses techniques like hypothesis testing and confidence intervals.\n",
        "\n",
        "# 5. What is sampling in statistics?\n",
        "  - Sampling is the process of selecting a subset of individuals from a population to estimate characteristics of the whole population.\n",
        "\n",
        "# 6. What are the different types of sampling methods?\n",
        "\n",
        "* Random Sampling\n",
        "* Stratified Sampling\n",
        "* Systematic Sampling\n",
        "* Cluster Sampling\n",
        "* Convenience Sampling\n",
        "* Judgmental or Purposive Sampling\n",
        "\n",
        "# 7. What is the difference between random and non-random sampling?\n",
        "\n",
        "* Random Sampling: Every individual has an equal chance of being selected. (e.g., lottery draw)\n",
        "* Non-Random Sampling: Selection is based on criteria or convenience. (e.g., surveying only nearby people)\n",
        "\n",
        "# 8. Define and give examples of qualitative and quantitative data.\n",
        "\n",
        "* Qualitative Data: Non-numerical information (e.g., color of cars, types of cuisine)\n",
        "* Quantitative Data: Numerical data (e.g., height in cm, number of students)\n",
        "\n",
        "# 9. What are the different types of data in statistics?\n",
        "\n",
        "* Qualitative (Categorical): Nominal and Ordinal\n",
        "* Quantitative (Numerical): Discrete and Continuous\n",
        "\n",
        "# 10. Explain nominal, ordinal, interval, and ratio levels of measurement.\n",
        "\n",
        "* Nominal: Categories without order (e.g., gender, blood group)\n",
        "* Ordinal: Categories with a specific order (e.g., ranking in a race)\n",
        "* Interval: Numeric scales with equal intervals, no true zero (e.g., temperature in °C)\n",
        "* Ratio: Like interval, but with a true zero (e.g., weight, height)\n",
        "\n",
        "# 11. What is the measure of central tendency?\n",
        "  - It refers to the central or typical value in a dataset, including mean, median, and mode.\n",
        "\n",
        "# 12. Define mean, median, and mode.\n",
        "\n",
        "* Mean: Average of all values\n",
        "* Median: Middle value when data is ordered\n",
        "* Mode: Most frequently occurring value\n",
        "\n",
        "# 13. What is the significance of the measure of central tendency?\n",
        "-  It helps to summarize a large dataset with a single representative value, making data easier to understand and compare.\n",
        "\n",
        "# 14. What is variance, and how is it calculated?\n",
        "- Variance measures the spread of data points from the mean.  \n",
        "  Formula:\n",
        "    Variance = Σ(x − x̄)² / n\n",
        "    where x = individual value, x̄ = mean, n = number of observations\n",
        "\n",
        "# 15. What is standard deviation, and why is it important?\n",
        "-  Standard deviation is the square root of variance. It shows how much data varies from the mean. A low standard deviation indicates data is close to the mean.\n",
        "\n",
        "# 16. Define and explain the term range in statistics.\n",
        "-  Range is the difference between the highest and lowest values in a dataset.\n",
        "   Formula:\n",
        "    Range = Maximum value − Minimum value\n",
        "\n",
        "# 17. What is the difference between variance and standard deviation?\n",
        "\n",
        "* Variance: Measures average squared deviation from the mean\n",
        "* Standard Deviation: Square root of variance; in the same units as the data\n",
        "\n",
        "# 18. What is skewness in a dataset?\n",
        "-  Skewness measures the asymmetry of a distribution. A dataset is skewed if it’s not symmetrical.\n",
        "\n",
        "# 19. What does it mean if a dataset is positively or negatively skewed?\n",
        "\n",
        "* Positively Skewed: Tail on the right; most data is on the left\n",
        "* Negatively Skewed: Tail on the left; most data is on the right\n",
        "\n",
        "# 20. Define and explain kurtosis.\n",
        "-  Kurtosis measures the \"tailedness\" of the distribution:\n",
        "\n",
        "* High kurtosis: More outliers\n",
        "* Low kurtosis: Fewer outliers\n",
        "\n",
        "# 21. What is the purpose of covariance?\n",
        "-  Covariance shows the direction of the relationship between two variables — whether they increase together or one increases while the other decreases.\n",
        "\n",
        "# 22. What does correlation measure in statistics?\n",
        "-  Correlation quantifies the strength and direction of a relationship between two variables, typically ranging from -1 to +1.\n",
        "\n",
        "# 23. What is the difference between covariance and correlation?\n",
        "\n",
        "* Covariance: Indicates direction of relationship\n",
        "* Correlation: Indicates both direction and strength; standardized (unitless)\n",
        "\n",
        "# 24. What are some real-world applications of statistics?\n",
        "\n",
        "* Business: sales forecasting, market research\n",
        "* Healthcare: clinical trials, disease tracking\n",
        "* Government: census, policy planning\n",
        "* Education: exam analysis, school performance\n",
        "* Sports: player stats, game strategies\n",
        "* Environment: climate studies, pollution control\n",
        "* Manufacturing: quality control, process improvement\n",
        "* Finance: risk analysis, investment decisions\n",
        "* Technology: AI, data analysis\n",
        "* Social research: surveys, public opinion studies\n",
        "\n"
      ],
      "metadata": {
        "id": "2268zMDiKmBr"
      }
    },
    {
      "cell_type": "code",
      "source": [],
      "metadata": {
        "id": "IpAU_E0EMFSL"
      },
      "execution_count": null,
      "outputs": []
    },
    {
      "cell_type": "markdown",
      "source": [
        "# Practical Questions:"
      ],
      "metadata": {
        "id": "6oPNrpFkMICs"
      }
    },
    {
      "cell_type": "code",
      "source": [
        "1. How do you calculate the mean, median, and mode of a dataset?\n",
        "\n",
        "Mean = sum of values ÷ number of values\n",
        "\n",
        "Median = middle value when data is sorted\n",
        "\n",
        "Mode = value that appears most frequently\n",
        "\n"
      ],
      "metadata": {
        "id": "hvOKEdTLMiSV"
      },
      "execution_count": null,
      "outputs": []
    },
    {
      "cell_type": "code",
      "source": [
        "# 2. Write a Python program to compute the variance and standard deviation of a dataset.\n",
        "import numpy as np\n",
        "\n",
        "data = [10, 20, 30, 40, 50]\n",
        "variance = np.var(data)\n",
        "std_dev = np.std(data)\n",
        "\n",
        "print(\"Variance:\", variance)\n",
        "print(\"Standard Deviation:\", std_dev)\n"
      ],
      "metadata": {
        "colab": {
          "base_uri": "https://localhost:8080/"
        },
        "id": "KwL47q8MNvvd",
        "outputId": "2fa478c2-67b3-4d95-b6fe-dd1d3c62436d"
      },
      "execution_count": 1,
      "outputs": [
        {
          "output_type": "stream",
          "name": "stdout",
          "text": [
            "Variance: 200.0\n",
            "Standard Deviation: 14.142135623730951\n"
          ]
        }
      ]
    },
    {
      "cell_type": "code",
      "source": [
        "# 3. Create a dataset and classify it into nominal, ordinal, interval, and ratio types.\n",
        "data = {\n",
        "    \"Gender\": [\"Male\", \"Female\"],            # Nominal\n",
        "    \"Education Level\": [\"High School\", \"Bachelor\", \"Master\"],  # Ordinal\n",
        "    \"Temperature (°C)\": [30, 35, 40],         # Interval\n",
        "    \"Weight (kg)\": [60, 72, 85]              # Ratio\n",
        "}\n"
      ],
      "metadata": {
        "id": "4GEFpBM1N_z5"
      },
      "execution_count": 7,
      "outputs": []
    },
    {
      "cell_type": "code",
      "source": [
        "# 4. Implement sampling techniques like random sampling and stratified sampling.\n",
        "import pandas as pd\n",
        "from sklearn.model_selection import train_test_split\n",
        "\n",
        "df = pd.DataFrame({'Group': ['A', 'B', 'A', 'B', 'A', 'B'], 'Value': [10, 20, 15, 25, 14, 22]})\n",
        "\n",
        "# Random sampling\n",
        "random_sample = df.sample(n=3)\n",
        "\n",
        "# Stratified sampling\n",
        "stratified_sample = df.groupby('Group', group_keys=False).apply(lambda x: x.sample(1))\n",
        "\n",
        "print(\"Random Sample:\\n\", random_sample)\n",
        "print(\"Stratified Sample:\\n\", stratified_sample)\n"
      ],
      "metadata": {
        "colab": {
          "base_uri": "https://localhost:8080/"
        },
        "id": "WAWF9ydzOG6k",
        "outputId": "613e7404-0229-4bc1-982f-767e4a2f8042"
      },
      "execution_count": 4,
      "outputs": [
        {
          "output_type": "stream",
          "name": "stdout",
          "text": [
            "Random Sample:\n",
            "   Group  Value\n",
            "5     B     22\n",
            "2     A     15\n",
            "4     A     14\n",
            "Stratified Sample:\n",
            "   Group  Value\n",
            "4     A     14\n",
            "3     B     25\n"
          ]
        },
        {
          "output_type": "stream",
          "name": "stderr",
          "text": [
            "<ipython-input-4-d5ff73f4f5b7>:11: DeprecationWarning: DataFrameGroupBy.apply operated on the grouping columns. This behavior is deprecated, and in a future version of pandas the grouping columns will be excluded from the operation. Either pass `include_groups=False` to exclude the groupings or explicitly select the grouping columns after groupby to silence this warning.\n",
            "  stratified_sample = df.groupby('Group', group_keys=False).apply(lambda x: x.sample(1))\n"
          ]
        }
      ]
    },
    {
      "cell_type": "code",
      "source": [
        "# 5. Write a Python function to calculate the range of a dataset.\n",
        "def calculate_range(data):\n",
        "    return max(data) - min(data)\n",
        "\n",
        "print(\"Range:\", calculate_range([3, 7, 2, 10, 6]))\n"
      ],
      "metadata": {
        "colab": {
          "base_uri": "https://localhost:8080/"
        },
        "id": "vaE3epYNOUrG",
        "outputId": "02cb4fa5-8929-4fff-acad-3202bffd9e5e"
      },
      "execution_count": 8,
      "outputs": [
        {
          "output_type": "stream",
          "name": "stdout",
          "text": [
            "Range: 8\n"
          ]
        }
      ]
    },
    {
      "cell_type": "code",
      "source": [
        "# 6. Create a dataset and plot its histogram to visualize skewness.\n",
        "import matplotlib.pyplot as plt\n",
        "\n",
        "data = [1, 2, 2, 3, 4, 5, 6, 8, 15]\n",
        "plt.hist(data, bins=5)\n",
        "plt.title(\"Histogram to Visualize Skewness\")\n",
        "plt.show()\n"
      ],
      "metadata": {
        "colab": {
          "base_uri": "https://localhost:8080/",
          "height": 452
        },
        "id": "Uk_4LXp9Ob6l",
        "outputId": "7b146ff0-8d80-420e-a56b-1017c76ea5bb"
      },
      "execution_count": 9,
      "outputs": [
        {
          "output_type": "display_data",
          "data": {
            "text/plain": [
              "<Figure size 640x480 with 1 Axes>"
            ],
            "image/png": "[encoded data removed]"
          },
          "metadata": {}
        }
      ]
    },
    {
      "cell_type": "code",
      "source": [
        "# 7. Calculate skewness and kurtosis of a dataset using Python libraries.\n",
        "from scipy.stats import skew, kurtosis\n",
        "\n",
        "data = [2, 3, 4, 5, 6, 7, 20]\n",
        "print(\"Skewness:\", skew(data))\n",
        "print(\"Kurtosis:\", kurtosis(data))\n"
      ],
      "metadata": {
        "colab": {
          "base_uri": "https://localhost:8080/"
        },
        "id": "ahIk1QkqOiff",
        "outputId": "d9641a23-a56b-4bac-c5f0-28b0b650fb0b"
      },
      "execution_count": 10,
      "outputs": [
        {
          "output_type": "stream",
          "name": "stdout",
          "text": [
            "Skewness: 1.7140862724332127\n",
            "Kurtosis: 1.4735889351848828\n"
          ]
        }
      ]
    },
    {
      "cell_type": "code",
      "source": [
        "# 8. Generate a dataset and demonstrate positive and negative skewness.\n",
        "from scipy.stats import skewnorm\n",
        "import matplotlib.pyplot as plt\n",
        "\n",
        "# Positive skew\n",
        "pos_skew = skewnorm.rvs(a=10, size=1000)\n",
        "# Negative skew\n",
        "neg_skew = skewnorm.rvs(a=-10, size=1000)\n",
        "\n",
        "plt.hist(pos_skew, bins=30, alpha=0.6, label='Positive Skew')\n",
        "plt.hist(neg_skew, bins=30, alpha=0.6, label='Negative Skew')\n",
        "plt.legend()\n",
        "plt.title(\"Positive vs Negative Skewness\")\n",
        "plt.show()\n"
      ],
      "metadata": {
        "colab": {
          "base_uri": "https://localhost:8080/",
          "height": 452
        },
        "id": "pmdRClSsOpAG",
        "outputId": "61a67d9a-c8c3-40a2-b3aa-fdeea22d41a3"
      },
      "execution_count": 11,
      "outputs": [
        {
          "output_type": "display_data",
          "data": {
            "text/plain": [
              "<Figure size 640x480 with 1 Axes>"
            ],
            "image/png": "[encoded data removed]"
          },
          "metadata": {}
        }
      ]
    },
    {
      "cell_type": "code",
      "source": [
        "# 9. Write a Python script to calculate covariance between two datasets.\n",
        "import numpy as np\n",
        "\n",
        "x = [1, 2, 3, 4, 5]\n",
        "y = [2, 4, 6, 8, 10]\n",
        "\n",
        "cov_matrix = np.cov(x, y)\n",
        "print(\"Covariance:\", cov_matrix[0, 1])\n"
      ],
      "metadata": {
        "colab": {
          "base_uri": "https://localhost:8080/"
        },
        "id": "1gw7B3uPOvMd",
        "outputId": "80c58b2d-0628-409f-d5d4-4016f3dd150e"
      },
      "execution_count": 12,
      "outputs": [
        {
          "output_type": "stream",
          "name": "stdout",
          "text": [
            "Covariance: 5.0\n"
          ]
        }
      ]
    },
    {
      "cell_type": "code",
      "source": [
        "# 10. Write a Python script to calculate the correlation coefficient between two datasets.\n",
        "correlation = np.corrcoef(x, y)\n",
        "print(\"Correlation Coefficient:\", correlation[0, 1])\n"
      ],
      "metadata": {
        "colab": {
          "base_uri": "https://localhost:8080/"
        },
        "id": "srVilCdEO5EV",
        "outputId": "cad7d469-dee3-41f9-f8af-61275d369dc0"
      },
      "execution_count": 13,
      "outputs": [
        {
          "output_type": "stream",
          "name": "stdout",
          "text": [
            "Correlation Coefficient: 0.9999999999999999\n"
          ]
        }
      ]
    },
    {
      "cell_type": "code",
      "source": [
        "# 11. Create a scatter plot to visualize the relationship between two variables.\n",
        "plt.scatter(x, y)\n",
        "plt.title(\"Scatter Plot\")\n",
        "plt.xlabel(\"X\")\n",
        "plt.ylabel(\"Y\")\n",
        "plt.show()\n"
      ],
      "metadata": {
        "colab": {
          "base_uri": "https://localhost:8080/",
          "height": 472
        },
        "id": "7E230H-uPCl5",
        "outputId": "b64b09eb-76e8-4384-cab6-9846bcb2f4b5"
      },
      "execution_count": 14,
      "outputs": [
        {
          "output_type": "display_data",
          "data": {
            "text/plain": [
              "<Figure size 640x480 with 1 Axes>"
            ],
            "image/png": "[encoded data removed]"
          },
          "metadata": {}
        }
      ]
    },
    {
      "cell_type": "code",
      "source": [
        "# 12. Implement and compare simple random sampling and systematic sampling\n",
        "import numpy as np\n",
        "\n",
        "data = np.arange(1, 21)\n",
        "\n",
        "# Simple random\n",
        "random_sample = np.random.choice(data, size=5, replace=False)\n",
        "\n",
        "# Systematic\n",
        "step = len(data) // 5\n",
        "systematic_sample = data[::step]\n",
        "\n",
        "print(\"Random Sample:\", random_sample)\n",
        "print(\"Systematic Sample:\", systematic_sample)\n"
      ],
      "metadata": {
        "colab": {
          "base_uri": "https://localhost:8080/"
        },
        "id": "sbQFaTmcPJyD",
        "outputId": "24290aac-1438-45eb-be34-edb1095e6777"
      },
      "execution_count": 15,
      "outputs": [
        {
          "output_type": "stream",
          "name": "stdout",
          "text": [
            "Random Sample: [10  5 16  4 12]\n",
            "Systematic Sample: [ 1  5  9 13 17]\n"
          ]
        }
      ]
    },
    {
      "cell_type": "code",
      "source": [
        "# 13. Calculate the mean, median, and mode of grouped data.\n",
        "import statistics as stats\n",
        "\n",
        "data = [10, 20, 20, 30, 40, 40, 40, 50]\n",
        "print(\"Mean:\", stats.mean(data))\n",
        "print(\"Median:\", stats.median(data))\n",
        "print(\"Mode:\", stats.mode(data))\n"
      ],
      "metadata": {
        "colab": {
          "base_uri": "https://localhost:8080/"
        },
        "id": "FpbCpxzcPQSL",
        "outputId": "a6c09b98-26c0-4cbc-c30b-fd5ef57b4c54"
      },
      "execution_count": 16,
      "outputs": [
        {
          "output_type": "stream",
          "name": "stdout",
          "text": [
            "Mean: 31.25\n",
            "Median: 35.0\n",
            "Mode: 40\n"
          ]
        }
      ]
    },
    {
      "cell_type": "code",
      "source": [
        "# 14. Simulate data using Python and calculate its central tendency and dispersion.\n",
        "data = np.random.normal(loc=50, scale=10, size=1000)\n",
        "print(\"Mean:\", np.mean(data))\n",
        "print(\"Std Dev:\", np.std(data))\n",
        "print(\"Variance:\", np.var(data))\n"
      ],
      "metadata": {
        "colab": {
          "base_uri": "https://localhost:8080/"
        },
        "id": "BNXyM3eWPYZ2",
        "outputId": "d4eb7835-938b-4a6e-c8aa-fad8bed2b878"
      },
      "execution_count": 17,
      "outputs": [
        {
          "output_type": "stream",
          "name": "stdout",
          "text": [
            "Mean: 49.718745483478415\n",
            "Std Dev: 10.38312273744345\n",
            "Variance: 107.80923778081517\n"
          ]
        }
      ]
    },
    {
      "cell_type": "code",
      "source": [
        "# 15. Use NumPy or pandas to summarize a dataset’s descriptive statistics.\n",
        "import pandas as pd\n",
        "\n",
        "df = pd.DataFrame({'Scores': [23, 45, 67, 89, 34, 56]})\n",
        "print(df.describe())\n"
      ],
      "metadata": {
        "colab": {
          "base_uri": "https://localhost:8080/"
        },
        "id": "LB1e_mgGPevW",
        "outputId": "4fa4fc08-5196-497e-e4c6-712ecad3132b"
      },
      "execution_count": 18,
      "outputs": [
        {
          "output_type": "stream",
          "name": "stdout",
          "text": [
            "          Scores\n",
            "count   6.000000\n",
            "mean   52.333333\n",
            "std    23.762716\n",
            "min    23.000000\n",
            "25%    36.750000\n",
            "50%    50.500000\n",
            "75%    64.250000\n",
            "max    89.000000\n"
          ]
        }
      ]
    },
    {
      "cell_type": "code",
      "source": [
        "# 16. Plot a boxplot to understand the spread and identify outliers.\n",
        "plt.boxplot(df['Scores'])\n",
        "plt.title(\"Boxplot\")\n",
        "plt.show()\n"
      ],
      "metadata": {
        "colab": {
          "base_uri": "https://localhost:8080/",
          "height": 452
        },
        "id": "VOtzsg9vPn8C",
        "outputId": "8160e94f-f525-4fb6-af78-9235d65aa60f"
      },
      "execution_count": 19,
      "outputs": [
        {
          "output_type": "display_data",
          "data": {
            "text/plain": [
              "<Figure size 640x480 with 1 Axes>"
            ],
            "image/png": "[encoded data removed]"
          },
          "metadata": {}
        }
      ]
    },
    {
      "cell_type": "code",
      "source": [
        "# 17. Calculate the interquartile range (IQR) of a dataset.\n",
        "Q1 = np.percentile(data, 25)\n",
        "Q3 = np.percentile(data, 75)\n",
        "IQR = Q3 - Q1\n",
        "print(\"IQR:\", IQR)\n"
      ],
      "metadata": {
        "colab": {
          "base_uri": "https://localhost:8080/"
        },
        "id": "TIdW4NstPvQm",
        "outputId": "89d994a2-a4d3-4efc-9942-32bb6a4d1111"
      },
      "execution_count": 20,
      "outputs": [
        {
          "output_type": "stream",
          "name": "stdout",
          "text": [
            "IQR: 14.453399645313674\n"
          ]
        }
      ]
    },
    {
      "cell_type": "code",
      "source": [
        "# 18. Implement Z-score normalization and explain its significance.\n",
        "z_scores = (data - np.mean(data)) / np.std(data)\n",
        "print(\"Z-scores:\", z_scores[:5])\n",
        "# Significance: Standardizes data to mean 0 and std dev 1\n"
      ],
      "metadata": {
        "colab": {
          "base_uri": "https://localhost:8080/"
        },
        "id": "3aCAs3YPP0XZ",
        "outputId": "1df53804-63f5-45bb-fcc8-7c74938ae674"
      },
      "execution_count": 21,
      "outputs": [
        {
          "output_type": "stream",
          "name": "stdout",
          "text": [
            "Z-scores: [-0.01298232 -0.84151165 -0.99054904 -1.91369841 -0.06019555]\n"
          ]
        }
      ]
    },
    {
      "cell_type": "code",
      "source": [
        "# 19. Compare two datasets using their standard deviations.\n",
        "a = [10, 12, 14, 16]\n",
        "b = [8, 15, 20, 30]\n",
        "\n",
        "print(\"SD of A:\", np.std(a))\n",
        "print(\"SD of B:\", np.std(b))\n",
        "# Higher SD indicates more spread\n"
      ],
      "metadata": {
        "colab": {
          "base_uri": "https://localhost:8080/"
        },
        "id": "5iRQWRtpQKHB",
        "outputId": "fa780dee-0377-45c3-abf0-bcbf3a37312e"
      },
      "execution_count": 22,
      "outputs": [
        {
          "output_type": "stream",
          "name": "stdout",
          "text": [
            "SD of A: 2.23606797749979\n",
            "SD of B: 8.011710179481033\n"
          ]
        }
      ]
    },
    {
      "cell_type": "code",
      "source": [
        "# 20. Write a Python program to visualize covariance using a heatmap.\n",
        "import seaborn as sns\n",
        "\n",
        "df = pd.DataFrame({'A': a, 'B': b})\n",
        "sns.heatmap(df.cov(), annot=True, cmap='coolwarm')\n",
        "plt.title(\"Covariance Heatmap\")\n",
        "plt.show()\n"
      ],
      "metadata": {
        "colab": {
          "base_uri": "https://localhost:8080/",
          "height": 452
        },
        "id": "hXegXn-4QRxb",
        "outputId": "36a93982-ddc4-4c9e-e423-57477d37bf93"
      },
      "execution_count": 23,
      "outputs": [
        {
          "output_type": "display_data",
          "data": {
            "text/plain": [
              "<Figure size 640x480 with 2 Axes>"
            ],
            "image/png": "[encoded data removed]"
          },
          "metadata": {}
        }
      ]
    },
    {
      "cell_type": "code",
      "source": [
        "# 21. Use seaborn to create a correlation matrix for a dataset.\n",
        "sns.heatmap(df.corr(), annot=True, cmap='YlGnBu')\n",
        "plt.title(\"Correlation Matrix\")\n",
        "plt.show()\n"
      ],
      "metadata": {
        "colab": {
          "base_uri": "https://localhost:8080/",
          "height": 452
        },
        "id": "tTLlePFdQaS_",
        "outputId": "69d373f9-b079-4b8a-9bd3-93d049650cdd"
      },
      "execution_count": 24,
      "outputs": [
        {
          "output_type": "display_data",
          "data": {
            "text/plain": [
              "<Figure size 640x480 with 2 Axes>"
            ],
            "image/png": "[encoded data removed]"
          },
          "metadata": {}
        }
      ]
    },
    {
      "cell_type": "code",
      "source": [
        "# 22. Generate a dataset and implement both variance and standard deviation computations.\n",
        "sample = np.random.randint(10, 100, 15)\n",
        "print(\"Dataset:\", sample)\n",
        "print(\"Variance:\", np.var(sample))\n",
        "print(\"Std Dev:\", np.std(sample))\n"
      ],
      "metadata": {
        "colab": {
          "base_uri": "https://localhost:8080/"
        },
        "id": "lMmWdJwAQhjx",
        "outputId": "b9a1504c-0dea-4bab-fa37-20b3ad62922f"
      },
      "execution_count": 25,
      "outputs": [
        {
          "output_type": "stream",
          "name": "stdout",
          "text": [
            "Dataset: [69 91 75 12 17 40 93 76 14 20 43 19 94 75 20]\n",
            "Variance: 965.8488888888888\n",
            "Std Dev: 31.078109480611733\n"
          ]
        }
      ]
    },
    {
      "cell_type": "code",
      "source": [
        "# 23. Visualize skewness and kurtosis using Python libraries like matplotlib or seaborn.\n",
        "sns.histplot(sample, kde=True)\n",
        "plt.title(\"Histogram with KDE Curve\")\n",
        "plt.show()\n"
      ],
      "metadata": {
        "colab": {
          "base_uri": "https://localhost:8080/",
          "height": 452
        },
        "id": "MxdjWy3PQpPQ",
        "outputId": "9e80ff26-92e7-41ad-e8f6-5f0976370c99"
      },
      "execution_count": 26,
      "outputs": [
        {
          "output_type": "display_data",
          "data": {
            "text/plain": [
              "<Figure size 640x480 with 1 Axes>"
            ],
            "image/png": "[encoded data removed]"
          },
          "metadata": {}
        }
      ]
    },
    {
      "cell_type": "code",
      "source": [
        "# 24. Implement the Pearson and Spearman correlation coefficients for a dataset.\n",
        "from scipy.stats import pearsonr, spearmanr\n",
        "\n",
        "x = [1, 2, 3, 4, 5]\n",
        "y = [5, 6, 7, 8, 7]\n",
        "\n",
        "print(\"Pearson:\", pearsonr(x, y))\n",
        "print(\"Spearman:\", spearmanr(x, y))\n"
      ],
      "metadata": {
        "colab": {
          "base_uri": "https://localhost:8080/"
        },
        "id": "sM4hMlSvQv6l",
        "outputId": "fd536a75-d868-4461-8cf1-2b5bf98613be"
      },
      "execution_count": 27,
      "outputs": [
        {
          "output_type": "stream",
          "name": "stdout",
          "text": [
            "Pearson: PearsonRResult(statistic=np.float64(0.8320502943378436), pvalue=np.float64(0.0805095732984986))\n",
            "Spearman: SignificanceResult(statistic=np.float64(0.8207826816681233), pvalue=np.float64(0.08858700531354381))\n"
          ]
        }
      ]
    }
  ]
}