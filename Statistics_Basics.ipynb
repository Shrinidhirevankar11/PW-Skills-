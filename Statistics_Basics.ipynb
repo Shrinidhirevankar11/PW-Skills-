{
  "nbformat": 4,
  "nbformat_minor": 0,
  "metadata": {
    "colab": {
      "provenance": []
    },
    "kernelspec": {
      "name": "python3",
      "display_name": "Python 3"
    },
    "language_info": {
      "name": "python"
    }
  },
  "cells": [
    {
      "cell_type": "code",
      "source": [],
      "metadata": {
        "id": "9NbToTI5MJpP"
      },
      "execution_count": null,
      "outputs": []
    },
    {
      "cell_type": "markdown",
      "source": [
        "\n",
        "# Question and Answers:\n",
        "\n",
        "# 1. What is statistics, and why is it important?\n",
        "   - Statistics is the science of collecting, organizing, analyzing, interpreting, and presenting data. It helps in making informed decisions, understanding trends, and predicting future outcomes based on data.\n",
        "\n",
        "# 2. What are the two main types of statistics?\n",
        "\n",
        "* Descriptive Statistics\n",
        "* Inferential Statistics\n",
        "\n",
        "# 3. What are descriptive statistics?\n",
        "  - Descriptive statistics summarize and describe the main features of a dataset using measures like mean, median, mode, range, and standard deviation.\n",
        "\n",
        "# 4. What is inferential statistics?\n",
        "   Inferential statistics involve making predictions or inferences about a population based on a sample of data. It uses techniques like hypothesis testing and confidence intervals.\n",
        "\n",
        "# 5. What is sampling in statistics?\n",
        "  - Sampling is the process of selecting a subset of individuals from a population to estimate characteristics of the whole population.\n",
        "\n",
        "# 6. What are the different types of sampling methods?\n",
        "\n",
        "* Random Sampling\n",
        "* Stratified Sampling\n",
        "* Systematic Sampling\n",
        "* Cluster Sampling\n",
        "* Convenience Sampling\n",
        "* Judgmental or Purposive Sampling\n",
        "\n",
        "# 7. What is the difference between random and non-random sampling?\n",
        "\n",
        "* Random Sampling: Every individual has an equal chance of being selected. (e.g., lottery draw)\n",
        "* Non-Random Sampling: Selection is based on criteria or convenience. (e.g., surveying only nearby people)\n",
        "\n",
        "# 8. Define and give examples of qualitative and quantitative data.\n",
        "\n",
        "* Qualitative Data: Non-numerical information (e.g., color of cars, types of cuisine)\n",
        "* Quantitative Data: Numerical data (e.g., height in cm, number of students)\n",
        "\n",
        "# 9. What are the different types of data in statistics?\n",
        "\n",
        "* Qualitative (Categorical): Nominal and Ordinal\n",
        "* Quantitative (Numerical): Discrete and Continuous\n",
        "\n",
        "# 10. Explain nominal, ordinal, interval, and ratio levels of measurement.\n",
        "\n",
        "* Nominal: Categories without order (e.g., gender, blood group)\n",
        "* Ordinal: Categories with a specific order (e.g., ranking in a race)\n",
        "* Interval: Numeric scales with equal intervals, no true zero (e.g., temperature in °C)\n",
        "* Ratio: Like interval, but with a true zero (e.g., weight, height)\n",
        "\n",
        "# 11. What is the measure of central tendency?\n",
        "  - It refers to the central or typical value in a dataset, including mean, median, and mode.\n",
        "\n",
        "# 12. Define mean, median, and mode.\n",
        "\n",
        "* Mean: Average of all values\n",
        "* Median: Middle value when data is ordered\n",
        "* Mode: Most frequently occurring value\n",
        "\n",
        "# 13. What is the significance of the measure of central tendency?\n",
        "-  It helps to summarize a large dataset with a single representative value, making data easier to understand and compare.\n",
        "\n",
        "# 14. What is variance, and how is it calculated?\n",
        "- Variance measures the spread of data points from the mean.  \n",
        "  Formula:\n",
        "    Variance = Σ(x − x̄)² / n\n",
        "    where x = individual value, x̄ = mean, n = number of observations\n",
        "\n",
        "# 15. What is standard deviation, and why is it important?\n",
        "-  Standard deviation is the square root of variance. It shows how much data varies from the mean. A low standard deviation indicates data is close to the mean.\n",
        "\n",
        "# 16. Define and explain the term range in statistics.\n",
        "-  Range is the difference between the highest and lowest values in a dataset.\n",
        "   Formula:\n",
        "    Range = Maximum value − Minimum value\n",
        "\n",
        "# 17. What is the difference between variance and standard deviation?\n",
        "\n",
        "* Variance: Measures average squared deviation from the mean\n",
        "* Standard Deviation: Square root of variance; in the same units as the data\n",
        "\n",
        "# 18. What is skewness in a dataset?\n",
        "-  Skewness measures the asymmetry of a distribution. A dataset is skewed if it’s not symmetrical.\n",
        "\n",
        "# 19. What does it mean if a dataset is positively or negatively skewed?\n",
        "\n",
        "* Positively Skewed: Tail on the right; most data is on the left\n",
        "* Negatively Skewed: Tail on the left; most data is on the right\n",
        "\n",
        "# 20. Define and explain kurtosis.\n",
        "-  Kurtosis measures the \"tailedness\" of the distribution:\n",
        "\n",
        "* High kurtosis: More outliers\n",
        "* Low kurtosis: Fewer outliers\n",
        "\n",
        "# 21. What is the purpose of covariance?\n",
        "-  Covariance shows the direction of the relationship between two variables — whether they increase together or one increases while the other decreases.\n",
        "\n",
        "# 22. What does correlation measure in statistics?\n",
        "-  Correlation quantifies the strength and direction of a relationship between two variables, typically ranging from -1 to +1.\n",
        "\n",
        "# 23. What is the difference between covariance and correlation?\n",
        "\n",
        "* Covariance: Indicates direction of relationship\n",
        "* Correlation: Indicates both direction and strength; standardized (unitless)\n",
        "\n",
        "# 24. What are some real-world applications of statistics?\n",
        "\n",
        "* Business: sales forecasting, market research\n",
        "* Healthcare: clinical trials, disease tracking\n",
        "* Government: census, policy planning\n",
        "* Education: exam analysis, school performance\n",
        "* Sports: player stats, game strategies\n",
        "* Environment: climate studies, pollution control\n",
        "* Manufacturing: quality control, process improvement\n",
        "* Finance: risk analysis, investment decisions\n",
        "* Technology: AI, data analysis\n",
        "* Social research: surveys, public opinion studies\n",
        "\n"
      ],
      "metadata": {
        "id": "2268zMDiKmBr"
      }
    },
    {
      "cell_type": "code",
      "source": [],
      "metadata": {
        "id": "IpAU_E0EMFSL"
      },
      "execution_count": null,
      "outputs": []
    },
    {
      "cell_type": "markdown",
      "source": [
        "# Practical Questions:"
      ],
      "metadata": {
        "id": "6oPNrpFkMICs"
      }
    },
    {
      "cell_type": "code",
      "source": [
        "1. How do you calculate the mean, median, and mode of a dataset?\n",
        "\n",
        "Mean = sum of values ÷ number of values\n",
        "\n",
        "Median = middle value when data is sorted\n",
        "\n",
        "Mode = value that appears most frequently\n",
        "\n"
      ],
      "metadata": {
        "id": "hvOKEdTLMiSV"
      },
      "execution_count": null,
      "outputs": []
    },
    {
      "cell_type": "code",
      "source": [
        "# 2. Write a Python program to compute the variance and standard deviation of a dataset.\n",
        "import numpy as np\n",
        "\n",
        "data = [10, 20, 30, 40, 50]\n",
        "variance = np.var(data)\n",
        "std_dev = np.std(data)\n",
        "\n",
        "print(\"Variance:\", variance)\n",
        "print(\"Standard Deviation:\", std_dev)\n"
      ],
      "metadata": {
        "colab": {
          "base_uri": "https://localhost:8080/"
        },
        "id": "KwL47q8MNvvd",
        "outputId": "2fa478c2-67b3-4d95-b6fe-dd1d3c62436d"
      },
      "execution_count": 1,
      "outputs": [
        {
          "output_type": "stream",
          "name": "stdout",
          "text": [
            "Variance: 200.0\n",
            "Standard Deviation: 14.142135623730951\n"
          ]
        }
      ]
    },
    {
      "cell_type": "code",
      "source": [
        "# 3. Create a dataset and classify it into nominal, ordinal, interval, and ratio types.\n",
        "data = {\n",
        "    \"Gender\": [\"Male\", \"Female\"],            # Nominal\n",
        "    \"Education Level\": [\"High School\", \"Bachelor\", \"Master\"],  # Ordinal\n",
        "    \"Temperature (°C)\": [30, 35, 40],         # Interval\n",
        "    \"Weight (kg)\": [60, 72, 85]              # Ratio\n",
        "}\n"
      ],
      "metadata": {
        "id": "4GEFpBM1N_z5"
      },
      "execution_count": null,
      "outputs": []
    },
    {
      "cell_type": "code",
      "source": [
        "# 4. Implement sampling techniques like random sampling and stratified sampling.\n",
        "import pandas as pd\n",
        "from sklearn.model_selection import train_test_split\n",
        "\n",
        "df = pd.DataFrame({'Group': ['A', 'B', 'A', 'B', 'A', 'B'], 'Value': [10, 20, 15, 25, 14, 22]})\n",
        "\n",
        "# Random sampling\n",
        "random_sample = df.sample(n=3)\n",
        "\n",
        "# Stratified sampling\n",
        "stratified_sample = df.groupby('Group', group_keys=False).apply(lambda x: x.sample(1))\n",
        "\n",
        "print(\"Random Sample:\\n\", random_sample)\n",
        "print(\"Stratified Sample:\\n\", stratified_sample)\n"
      ],
      "metadata": {
        "id": "WAWF9ydzOG6k"
      },
      "execution_count": null,
      "outputs": []
    },
    {
      "cell_type": "code",
      "source": [
        "# 5. Write a Python function to calculate the range of a dataset.\n",
        "def calculate_range(data):\n",
        "    return max(data) - min(data)\n",
        "\n",
        "print(\"Range:\", calculate_range([3, 7, 2, 10, 6]))\n"
      ],
      "metadata": {
        "id": "vaE3epYNOUrG"
      },
      "execution_count": null,
      "outputs": []
    },
    {
      "cell_type": "code",
      "source": [
        "# 6. Create a dataset and plot its histogram to visualize skewness.\n",
        "import matplotlib.pyplot as plt\n",
        "\n",
        "data = [1, 2, 2, 3, 4, 5, 6, 8, 15]\n",
        "plt.hist(data, bins=5)\n",
        "plt.title(\"Histogram to Visualize Skewness\")\n",
        "plt.show()\n"
      ],
      "metadata": {
        "id": "Uk_4LXp9Ob6l"
      },
      "execution_count": null,
      "outputs": []
    },
    {
      "cell_type": "code",
      "source": [
        "# 7. Calculate skewness and kurtosis of a dataset using Python libraries.\n",
        "from scipy.stats import skew, kurtosis\n",
        "\n",
        "data = [2, 3, 4, 5, 6, 7, 20]\n",
        "print(\"Skewness:\", skew(data))\n",
        "print(\"Kurtosis:\", kurtosis(data))\n"
      ],
      "metadata": {
        "id": "ahIk1QkqOiff"
      },
      "execution_count": null,
      "outputs": []
    },
    {
      "cell_type": "code",
      "source": [
        "# 8. Generate a dataset and demonstrate positive and negative skewness.\n",
        "from scipy.stats import skewnorm\n",
        "import matplotlib.pyplot as plt\n",
        "\n",
        "# Positive skew\n",
        "pos_skew = skewnorm.rvs(a=10, size=1000)\n",
        "# Negative skew\n",
        "neg_skew = skewnorm.rvs(a=-10, size=1000)\n",
        "\n",
        "plt.hist(pos_skew, bins=30, alpha=0.6, label='Positive Skew')\n",
        "plt.hist(neg_skew, bins=30, alpha=0.6, label='Negative Skew')\n",
        "plt.legend()\n",
        "plt.title(\"Positive vs Negative Skewness\")\n",
        "plt.show()\n"
      ],
      "metadata": {
        "id": "pmdRClSsOpAG"
      },
      "execution_count": null,
      "outputs": []
    },
    {
      "cell_type": "code",
      "source": [
        "# 9. Write a Python script to calculate covariance between two datasets.\n",
        "import numpy as np\n",
        "\n",
        "x = [1, 2, 3, 4, 5]\n",
        "y = [2, 4, 6, 8, 10]\n",
        "\n",
        "cov_matrix = np.cov(x, y)\n",
        "print(\"Covariance:\", cov_matrix[0, 1])\n"
      ],
      "metadata": {
        "id": "1gw7B3uPOvMd"
      },
      "execution_count": null,
      "outputs": []
    },
    {
      "cell_type": "code",
      "source": [
        "# 10. Write a Python script to calculate the correlation coefficient between two datasets.\n",
        "correlation = np.corrcoef(x, y)\n",
        "print(\"Correlation Coefficient:\", correlation[0, 1])\n"
      ],
      "metadata": {
        "id": "srVilCdEO5EV"
      },
      "execution_count": null,
      "outputs": []
    },
    {
      "cell_type": "code",
      "source": [
        "# 11. Create a scatter plot to visualize the relationship between two variables.\n",
        "plt.scatter(x, y)\n",
        "plt.title(\"Scatter Plot\")\n",
        "plt.xlabel(\"X\")\n",
        "plt.ylabel(\"Y\")\n",
        "plt.show()\n"
      ],
      "metadata": {
        "id": "7E230H-uPCl5"
      },
      "execution_count": null,
      "outputs": []
    },
    {
      "cell_type": "code",
      "source": [
        "# 12. Implement and compare simple random sampling and systematic sampling\n",
        "import numpy as np\n",
        "\n",
        "data = np.arange(1, 21)\n",
        "\n",
        "# Simple random\n",
        "random_sample = np.random.choice(data, size=5, replace=False)\n",
        "\n",
        "# Systematic\n",
        "step = len(data) // 5\n",
        "systematic_sample = data[::step]\n",
        "\n",
        "print(\"Random Sample:\", random_sample)\n",
        "print(\"Systematic Sample:\", systematic_sample)\n"
      ],
      "metadata": {
        "id": "sbQFaTmcPJyD"
      },
      "execution_count": null,
      "outputs": []
    },
    {
      "cell_type": "code",
      "source": [
        "# 13. Calculate the mean, median, and mode of grouped data.\n",
        "import statistics as stats\n",
        "\n",
        "data = [10, 20, 20, 30, 40, 40, 40, 50]\n",
        "print(\"Mean:\", stats.mean(data))\n",
        "print(\"Median:\", stats.median(data))\n",
        "print(\"Mode:\", stats.mode(data))\n"
      ],
      "metadata": {
        "id": "FpbCpxzcPQSL"
      },
      "execution_count": null,
      "outputs": []
    },
    {
      "cell_type": "code",
      "source": [
        "# 14. Simulate data using Python and calculate its central tendency and dispersion.\n",
        "data = np.random.normal(loc=50, scale=10, size=1000)\n",
        "print(\"Mean:\", np.mean(data))\n",
        "print(\"Std Dev:\", np.std(data))\n",
        "print(\"Variance:\", np.var(data))\n"
      ],
      "metadata": {
        "id": "BNXyM3eWPYZ2"
      },
      "execution_count": null,
      "outputs": []
    },
    {
      "cell_type": "code",
      "source": [
        "# 15. Use NumPy or pandas to summarize a dataset’s descriptive statistics.\n",
        "import pandas as pd\n",
        "\n",
        "df = pd.DataFrame({'Scores': [23, 45, 67, 89, 34, 56]})\n",
        "print(df.describe())\n"
      ],
      "metadata": {
        "id": "LB1e_mgGPevW"
      },
      "execution_count": null,
      "outputs": []
    },
    {
      "cell_type": "code",
      "source": [
        "# 16. Plot a boxplot to understand the spread and identify outliers.\n",
        "plt.boxplot(df['Scores'])\n",
        "plt.title(\"Boxplot\")\n",
        "plt.show()\n"
      ],
      "metadata": {
        "id": "VOtzsg9vPn8C"
      },
      "execution_count": null,
      "outputs": []
    },
    {
      "cell_type": "code",
      "source": [
        "# 17. Calculate the interquartile range (IQR) of a dataset.\n",
        "Q1 = np.percentile(data, 25)\n",
        "Q3 = np.percentile(data, 75)\n",
        "IQR = Q3 - Q1\n",
        "print(\"IQR:\", IQR)\n"
      ],
      "metadata": {
        "id": "TIdW4NstPvQm"
      },
      "execution_count": null,
      "outputs": []
    },
    {
      "cell_type": "code",
      "source": [
        "# 18. Implement Z-score normalization and explain its significance.\n",
        "z_scores = (data - np.mean(data)) / np.std(data)\n",
        "print(\"Z-scores:\", z_scores[:5])\n",
        "# Significance: Standardizes data to mean 0 and std dev 1\n"
      ],
      "metadata": {
        "id": "3aCAs3YPP0XZ"
      },
      "execution_count": null,
      "outputs": []
    },
    {
      "cell_type": "code",
      "source": [
        "# 19. Compare two datasets using their standard deviations.\n",
        "a = [10, 12, 14, 16]\n",
        "b = [8, 15, 20, 30]\n",
        "\n",
        "print(\"SD of A:\", np.std(a))\n",
        "print(\"SD of B:\", np.std(b))\n",
        "# Higher SD indicates more spread\n"
      ],
      "metadata": {
        "id": "5iRQWRtpQKHB"
      },
      "execution_count": null,
      "outputs": []
    },
    {
      "cell_type": "code",
      "source": [
        "# 20. Write a Python program to visualize covariance using a heatmap.\n",
        "import seaborn as sns\n",
        "\n",
        "df = pd.DataFrame({'A': a, 'B': b})\n",
        "sns.heatmap(df.cov(), annot=True, cmap='coolwarm')\n",
        "plt.title(\"Covariance Heatmap\")\n",
        "plt.show()\n"
      ],
      "metadata": {
        "id": "hXegXn-4QRxb"
      },
      "execution_count": null,
      "outputs": []
    },
    {
      "cell_type": "code",
      "source": [
        "# 21. Use seaborn to create a correlation matrix for a dataset.\n",
        "sns.heatmap(df.corr(), annot=True, cmap='YlGnBu')\n",
        "plt.title(\"Correlation Matrix\")\n",
        "plt.show()\n"
      ],
      "metadata": {
        "id": "tTLlePFdQaS_"
      },
      "execution_count": null,
      "outputs": []
    },
    {
      "cell_type": "code",
      "source": [
        "# 22. Generate a dataset and implement both variance and standard deviation computations.\n",
        "sample = np.random.randint(10, 100, 15)\n",
        "print(\"Dataset:\", sample)\n",
        "print(\"Variance:\", np.var(sample))\n",
        "print(\"Std Dev:\", np.std(sample))\n"
      ],
      "metadata": {
        "id": "lMmWdJwAQhjx"
      },
      "execution_count": null,
      "outputs": []
    },
    {
      "cell_type": "code",
      "source": [
        "# 23. Visualize skewness and kurtosis using Python libraries like matplotlib or seaborn.\n",
        "sns.histplot(sample, kde=True)\n",
        "plt.title(\"Histogram with KDE Curve\")\n",
        "plt.show()\n"
      ],
      "metadata": {
        "id": "MxdjWy3PQpPQ"
      },
      "execution_count": null,
      "outputs": []
    },
    {
      "cell_type": "code",
      "source": [
        "# 24. Implement the Pearson and Spearman correlation coefficients for a dataset.\n",
        "from scipy.stats import pearsonr, spearmanr\n",
        "\n",
        "x = [1, 2, 3, 4, 5]\n",
        "y = [5, 6, 7, 8, 7]\n",
        "\n",
        "print(\"Pearson:\", pearsonr(x, y))\n",
        "print(\"Spearman:\", spearmanr(x, y))\n"
      ],
      "metadata": {
        "colab": {
          "base_uri": "https://localhost:8080/"
        },
        "id": "sM4hMlSvQv6l",
        "outputId": "a20985f9-ed62-4194-da03-20d533895c7f"
      },
      "execution_count": 2,
      "outputs": [
        {
          "output_type": "stream",
          "name": "stdout",
          "text": [
            "Pearson: PearsonRResult(statistic=np.float64(0.8320502943378436), pvalue=np.float64(0.0805095732984986))\n",
            "Spearman: SignificanceResult(statistic=np.float64(0.8207826816681233), pvalue=np.float64(0.08858700531354381))\n"
          ]
        }
      ]
    }
  ]
}